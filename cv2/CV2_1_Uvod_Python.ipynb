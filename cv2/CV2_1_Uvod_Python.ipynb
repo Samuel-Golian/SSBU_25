{
 "cells": [
  {
   "metadata": {},
   "cell_type": "markdown",
   "source": [
    "# SSBU CV2: Úvod do Pythonu\n",
    "\n",
    "## Python\n",
    "Python je vysokoúrovňový programovací jazyk, ktorý je:\n",
    "- Interpretovaný (nevytvára spustiteľný kód),\n",
    "- Objektovo-orientovaný,\n",
    "- Freeware a open source,\n",
    "- Dynamicky typovaný,\n",
    "- Rozsiahly na knižnice, najmä na spracovanie a vizualizáciu údajov, štatistiku a strojové učenie.\n",
    "\n",
    "---\n",
    "\n",
    "## **1. Základná syntax**\n",
    "### Kľúčové vlastnosti:\n",
    "- Kód sa oddeľuje **odsadením (indentáciou - tab)** (nie zátvorkami ako v C/C++).\n",
    "- Premenné sa **nemusia vytvárať s definovaním dátového typu** – Python ho priradí automaticky a môže sa dynamicky meniť.\n",
    "- Na výpis na konzolu používame **funkciu `print()`** - [Dokumentácia print()](https://docs.python.org/3/library/functions.html#print).\n",
    "\n",
    "**Príklad:**"
   ],
   "id": "6a9ab2e3b9dd969f"
  },
  {
   "metadata": {},
   "cell_type": "code",
   "outputs": [],
   "execution_count": null,
   "source": [
    "from setuptools.command.rotate import rotate\n",
    "\n",
    "print(\"Hello, World!\")"
   ],
   "id": "c3d19777325a7aa4"
  },
  {
   "metadata": {},
   "cell_type": "markdown",
   "source": "**Úloha na precvičenie:** Napíšte príkaz, ktorý vypíše vaše meno a vek.",
   "id": "e71388c9f3b940b2"
  },
  {
   "metadata": {},
   "cell_type": "code",
   "outputs": [],
   "execution_count": null,
   "source": [
    "# TODO\n",
    "print(\"Samuel Golian, 5\")"
   ],
   "id": "bf87e89c1edf0e16"
  },
  {
   "metadata": {},
   "cell_type": "markdown",
   "source": [
    "---\n",
    "\n",
    "## **2. Dátové typy a premenné**\n",
    "### Základné dátové typy v Pythone:\n",
    "- Vstavané dátové typy a operácie: [Dokumentácia Built-in Types](https://docs.python.org/3/library/stdtypes.html)\n",
    "- **Textové:** `str`\n",
    "- **Číselné:** `int`, `float`, `complex`\n",
    "- **Sekvenčné:** `list`, `tuple`, `range`\n",
    "- **Mapovacie:** `dict`\n",
    "- **Množinové:** `set`, `frozenset`\n",
    "- **Booleovské:** `bool`\n",
    "- **Binárne:** `bytes`, `bytearray`, `memoryview`\n",
    "- **None:** `NoneType` (None objekt - neobsahuje hodnotu) - [Dokumentácia NoneType](https://docs.python.org/3/library/constants.html#None)\n",
    "\n",
    "+ dalšie - [Dokumentácia Python Data Types](https://docs.python.org/3/library/datatypes.html)\n",
    "\n",
    "+ zistenie typu premennej - funkcia type - [Dokumentácia type](https://docs.python.org/3/library/functions.html#type)\n",
    "\n",
    "**Príklad:**"
   ],
   "id": "d5daf088ede27daf"
  },
  {
   "metadata": {},
   "cell_type": "code",
   "outputs": [],
   "execution_count": null,
   "source": [
    "name = \"John\"\n",
    "age = 25\n",
    "height = 6.2\n",
    "is_student = False\n",
    "print(type(name), type(age), type(height), type(is_student))"
   ],
   "id": "e9521028626a3900"
  },
  {
   "metadata": {},
   "cell_type": "markdown",
   "source": "**Úloha:** Vytvorte a inicializujte premenné `blood_type`, `insurance_code` a `allergic_to_paracetamol` a vypíšte ich dátové typy.",
   "id": "8c73fe878097dfbf"
  },
  {
   "metadata": {},
   "cell_type": "code",
   "outputs": [],
   "execution_count": null,
   "source": [
    "# TODO\n",
    "blood_type = \"A\"\n",
    "insurance_code = \"99\"\n",
    "allergic_to_paracetamol = False\n",
    "type(blood_type), type(insurance_code), type(allergic_to_paracetamol)"
   ],
   "id": "c5b378b1a3204dab"
  },
  {
   "metadata": {},
   "cell_type": "code",
   "outputs": [],
   "execution_count": null,
   "source": "",
   "id": "dbd13fc167249559"
  },
  {
   "metadata": {},
   "cell_type": "markdown",
   "source": [
    "---\n",
    "\n",
    "## **3. Operátory**\n",
    "Operátory sú použiteľné štandardne, alebo ako funkcie (potrebné importovaqť modul operator) - [Dokumentácia operator](https://docs.python.org/3/library/operator.html)\n",
    "\n",
    "Python podporuje:\n",
    "- **Aritmetické operátory:** `+`, `-`, `*`, `/`, `//`, `%`, `**`\n",
    "- **Porovnávacie operátory:** `==`, `!=`, `>`, `<`, `>=`, `<=`\n",
    "- **Logické operátory:** `and`, `or`, `not` - pozor na typy, ktoré porovnávate (napr. bool a int)\n",
    "\n",
    "**Príklad:**"
   ],
   "id": "94fd1d7992cde645"
  },
  {
   "metadata": {},
   "cell_type": "code",
   "outputs": [],
   "execution_count": null,
   "source": [
    "# arithmetic operations\n",
    "x, y = 10, 3\n",
    "print(x + y, x * y, x > y, x and y)\n",
    "\n",
    "# comparison operations\n",
    "print(\"Is x smaller than y?: \", x < y)\n",
    "\n",
    "import operator\n",
    "compare = operator.ge(x, y) # greater or equal\n",
    "print(\"Is x greater or equal to y?:\", compare)\n",
    "\n",
    "# logical operations\n",
    "is_allergic = True\n",
    "is_true = is_allergic or 0\n",
    "print(\"Value of is_true:\", is_true)\n",
    "print(\"Operator sign comparison: \", is_true & False)"
   ],
   "id": "7fc99d6b7bc8230"
  },
  {
   "metadata": {},
   "cell_type": "markdown",
   "source": "**Úloha:** Vytvorte premenné `a = 20`, `b = 5` a vypočítajte súčet, rozdiel a ich podiel.",
   "id": "7071cefa11cc9a29"
  },
  {
   "metadata": {},
   "cell_type": "code",
   "outputs": [],
   "execution_count": null,
   "source": [
    "# TODO\n",
    "a = 20\n",
    "b = 5\n",
    "print(a + b)"
   ],
   "id": "164200b5d809ee28"
  },
  {
   "metadata": {},
   "cell_type": "markdown",
   "source": [
    "---\n",
    "\n",
    "## **4. Podmienky**\n",
    "### Kľúčové vlastnosti:\n",
    "- Používame `if`, `elif`, `else` na riadenie toku programu.\n",
    "- Kód v jednotlivých vetvách sú oddelené odsadením.\n",
    "\n",
    "**Príklad:**"
   ],
   "id": "36b5d4825b039fcb"
  },
  {
   "metadata": {},
   "cell_type": "code",
   "outputs": [],
   "execution_count": null,
   "source": [
    "age = 18\n",
    "if age < 18:\n",
    "    print(\"You are a minor.\")\n",
    "elif age == 18:\n",
    "    print(\"You have just become an adult.\")\n",
    "else:\n",
    "    print(\"You are an adult.\")"
   ],
   "id": "805c0efd127f006a"
  },
  {
   "metadata": {},
   "cell_type": "markdown",
   "source": "**Úloha:** Napíšte kód, ktorý skontroluje, či je číslo párne alebo nepárne a overte ho použitím rôznych čísel. - [Dokumentácia expressions (modulo)](https://docs.python.org/3/reference/expressions.html)\n",
   "id": "a33d4ab9fc79c551"
  },
  {
   "metadata": {},
   "cell_type": "code",
   "outputs": [],
   "execution_count": null,
   "source": [
    "# TODO\n",
    "a = 4\n",
    "if age % 2 == 0:\n",
    "    print(\"parne\")\n",
    "else:\n",
    "    print(\"neparne\")"
   ],
   "id": "8f28b09bb0e51bad"
  },
  {
   "metadata": {},
   "cell_type": "markdown",
   "source": [
    "---\n",
    "\n",
    "## **5. Cykly**\n",
    "- `for` cyklus pre iteráciu cez zoznamy a sekvencie.\n",
    "- `while` cyklus na opakovanie, kým je podmienka splnená.\n",
    "- Použitie `break` a `continue` je rovnaké ako v iných programovacích jazykoch\n",
    "- Použitie `else` - Táto vetva obsahuje príkazy, ktoré sa majú vykonať po vykonaní cyklu, ak nebol ukončený pomocou `break`\n",
    "- Pri `for` cykle je potrebné vytvoriť iterovateľný objekt - napr. sekvenciu čísel, zoznam, slovník, množinu, alebo iný iterovateľný objekt\n",
    "    - Funkcia `range` - sekvencia čísel - [Dokumentácia range](https://docs.python.org/3/library/functions.html#func-range)\n",
    "    - Funkcia `len` - dlžka zoznamu - [Dokumentácia len](https://docs.python.org/3/library/functions.html#len)\n",
    "\n",
    "\n",
    "**Príklad:**"
   ],
   "id": "907617b1655d8a96"
  },
  {
   "metadata": {},
   "cell_type": "code",
   "outputs": [],
   "execution_count": null,
   "source": [
    "for i in range(5):\n",
    "    print(i)"
   ],
   "id": "3193583f093d2d47"
  },
  {
   "metadata": {},
   "cell_type": "markdown",
   "source": "**Úloha:** Napíšte program, ktorý vypíše čísla od 10 do 1. Použite `for` cyklus a funkciu `range`.",
   "id": "f0113cab8e49e6eb"
  },
  {
   "metadata": {},
   "cell_type": "code",
   "outputs": [],
   "execution_count": null,
   "source": [
    "# TODO\n",
    "for i in range(10):\n",
    "    print(10 - i)\n",
    "\n",
    "for i in range(10, 0, -1):\n",
    "    print(i)"
   ],
   "id": "bc77a3d1d4a4c87b"
  },
  {
   "metadata": {},
   "cell_type": "markdown",
   "source": [
    "---\n",
    "\n",
    "## **6. Funkcie**\n",
    "- Definujeme ich pomocou kľúčového slova `def` a odsadením tela funkcie.\n",
    "- Môžu mať parametre a návratové hodnoty.\n",
    "- Parametrom funkcie sa môže ale nemusí definovať typ\n",
    "- Voliteľné parametre majú predvolenú hodnotu, ktorá sa nastaví, ak hodnota parametra nie je definovaná\n",
    "- Dokumentačné komentáre sa nachádzajú pod definíciou (vo vnútri triedy/funkcie) - označené `\"\"\"`\n",
    "\n",
    "\n",
    "- **Príklad:**"
   ],
   "id": "c71848b691c6bf4b"
  },
  {
   "metadata": {},
   "cell_type": "code",
   "outputs": [],
   "execution_count": null,
   "source": [
    "# age is optional\n",
    "def greet(name, age = -1):\n",
    "    # documentation comment\n",
    "    \"\"\"Function to greet a person.\"\"\"\n",
    "    print(\"Name:\", name, \"\\tAge: \", age)\n",
    "\n",
    "# function call\n",
    "greet(\"Alice\")\n",
    "greet(\"Benjamin\", 22)"
   ],
   "id": "50a61195b4c156f6"
  },
  {
   "metadata": {},
   "cell_type": "markdown",
   "source": "**Úloha:** Napíšte funkciu, ktorá vypočíta a vráti druhú mocninu čísla. Použite voliteľný parameter pre zmenu exponentu. - [Dokumentácia functions](https://docs.python.org/3/tutorial/controlflow.html#defining-functions), [Dokumentácia pow](https://docs.python.org/3/library/functions.html#pow)",
   "id": "9f553779d094ac3f"
  },
  {
   "metadata": {},
   "cell_type": "code",
   "outputs": [],
   "execution_count": null,
   "source": [
    "# TODO\n",
    "def square(number):\n",
    "    return number ** 2\n",
    "\n",
    "square(10)"
   ],
   "id": "904a0e4f6c296247"
  },
  {
   "metadata": {},
   "cell_type": "markdown",
   "source": [
    "---\n",
    "\n",
    "## **7. Údajové štruktúry**\n",
    "- Základné štruktúry:\n",
    "    - list (`[]`)\n",
    "    - dictionary (`{kľúč : hodnota}`)\n",
    "    - set (`{}`)\n",
    "    - tuple (`()`)\n",
    "- [Dokumentacia datastructures](https://docs.python.org/3/tutorial/datastructures.html)\n",
    "\n",
    "**List (Zoznam):**\n",
    "\n",
    "- Definícia - pomocou `[]`\n",
    "- Uchováva poradie prvkov.\n",
    "- Prvky v liste sú indexované - každý prvok má priradený index (začínajúci od 0) na identifikáciu jeho pozície v zozname.\n",
    "- Je `mutable` - jeho prvky môžu byť menené.\n",
    "\n",
    "**Dictionary (Slovník):**\n",
    "\n",
    "- Definícia - pomocou `{}` a kľúčov - `kľúč : hodnota`\n",
    "- Uchováva dáta v pároch kľúč-hodnota podobne ako objekty JSON.\n",
    "- Kľúče musia byť jedinečné a sú hashovateľné.\n",
    "- Poradie prvkov je zachované tak, ako boli vložené (od verzie 3.7).\n",
    "- Tiež je `mutable`.\n",
    "\n",
    "**Set (Množina):**\n",
    "\n",
    "- Definícia - pomocou `{}`\n",
    "- Obsahuje **jedinečné prvky**, žiadne duplikáty.\n",
    "- Prvky nie sú indexované, nie je možné ich získať pomocou indexu, nie je usporiadaná.\n",
    "- Je `mutable` a môže sa použiť na vykonávanie matematických operácií množín, ako sú zjednotenie, prienik, rozdiel atď.\n",
    "\n",
    "**Tuple (N-tica):**\n",
    "\n",
    "- Definícia - pomocou `()`\n",
    "- Uchováva poradie prvkov.\n",
    "- Prvky sú indexované a každý prvok má svoj unikátny index.\n",
    "- Je `immutable` (nemeniteľná) - jeho prvky nemôžu byť po vytvorení zmenené.\n",
    "- Môže obsahovať rôzne dátové typy.\n",
    "\n",
    "**Príklad:**"
   ],
   "id": "5ccee94114262ca1"
  },
  {
   "metadata": {},
   "cell_type": "code",
   "outputs": [],
   "execution_count": null,
   "source": [
    "# list\n",
    "numbers = [1, 2, 3, 4, 5]\n",
    "print(\"First element of the list:\", numbers[0])  # Accessing elements of the list by index\n",
    "numbers = numbers + [6, 7, 8]  # Adding elements to the list\n",
    "\n",
    "# dictionary\n",
    "person = {'name': 'Alice', 'age': 30, 'city': 'New York'}\n",
    "print(\"Name:\", person['name'])\n",
    "person['city'] = 'Los Angeles'  # Changing value of the key 'city'\n",
    "person['blood_type'] = 'A+'  # Adding new key-value pair\n",
    "\n",
    "# set\n",
    "medical_treatment = {'paracetamol', 'ibuprofen', 'aspirin'}\n",
    "print(\"Medical treatments:\", medical_treatment)\n",
    "medical_treatment.add('antibiotics')  # Adding new element to the set\n",
    "\n",
    "# tuples\n",
    "coordinates = (10, 20)\n",
    "print(\"Coordinates:\", coordinates)\n",
    "print(\"Coordinate x:\", coordinates[0])"
   ],
   "id": "42138d0794354259"
  },
  {
   "metadata": {},
   "cell_type": "markdown",
   "source": "**Úloha:** Vytvorte zoznam `patients` s údajmi o pacientoch (meno, vek, diagnóza). Vypíšte vek pacienta s indexom 2.\n",
   "id": "a89e376fdfb0b80"
  },
  {
   "metadata": {},
   "cell_type": "code",
   "outputs": [],
   "execution_count": null,
   "source": [
    "# TODO\n",
    "patient1 = {'name': 'Diana', 'age': '25', 'diagnosis': 'flu'}\n",
    "patient2 = {'name': 'Karol', 'age': '24.5', 'diagnosis': 'flu_squared'}\n",
    "patient3 = {'name': 'Ivana', 'age': '24', 'diagnosis': 'flu_low'}\n",
    "patients = [patient1, patient2, patient3]\n",
    "print(patients[2]['age'])"
   ],
   "id": "2e57153c64e8a08a"
  },
  {
   "metadata": {},
   "cell_type": "markdown",
   "source": [
    "---\n",
    "\n",
    "## **8. Práca so súbormi**\n",
    "### Čítanie a zápis do súborov:\n",
    "- Pri otvorení súboru je potrebné definovať mód otvorenia - určuje, ako bude súbor použitý (čítanie, zápis, pridávanie do existujúceho súboru, atď.).\n",
    "    - 'w' pre zápis (vytvorenie súboru, prípadne prepis existujúceho súboru)\n",
    "    - 'r' pre čítanie\n",
    "    - 'a' pre pridávanie (zápis na koniec existujúceho súboru (append)).\n",
    "\n",
    "- Použitie `with` klauzuly (kontextový manažér) - [Dokumentácia input/output](https://docs.python.org/3/tutorial/inputoutput.html)\n",
    "    - Pomáha spravovať súbory, automatizuje zatvorenie súboru po tom, čo je blok kódu pod klauzulou with dokončený. (aj pri vyhodení výnimky)\n",
    "    - Znižuje riziko zanechania otvoreného súboru, čo by mohlo viesť k únikom pamäti alebo iným problémom.\n",
    "\n",
    "\n",
    "**Príklad:**"
   ],
   "id": "334eed282d94eee"
  },
  {
   "metadata": {},
   "cell_type": "code",
   "outputs": [],
   "execution_count": null,
   "source": [
    "# writing to a file\n",
    "with open(\"data/example.csv\", \"w+\") as file:\n",
    "    file.write(\"patient_id,name,age,diagnosis\\n\") # writing a header\n",
    "\n",
    "# reading from a file\n",
    "with open('data/example.csv', 'r') as file:\n",
    "    contents = file.read()\n",
    "    print(\"File contents:\", contents)"
   ],
   "id": "1c3a6279d8418e6f"
  },
  {
   "metadata": {},
   "cell_type": "markdown",
   "source": "**Úloha:** Otvorte súbor `example.csv`v móde \"append\" a zapíšte do neho údaje o troch pacientoch. (Údaje vymyslite)",
   "id": "c604057dcfa7bdc"
  },
  {
   "metadata": {},
   "cell_type": "code",
   "outputs": [],
   "execution_count": null,
   "source": [
    "# TODO\n",
    "with open(\"example.csv\", \"a\") as file:\n",
    "    file.write(\"patient_id,name,age,diagnosis\\n\")"
   ],
   "id": "e85d8d9d6a07e7d3"
  },
  {
   "metadata": {},
   "cell_type": "markdown",
   "source": [
    "---\n",
    "## **9. Moduly**\n",
    "- Modulom môže byť akýkoľvek vlastný .py skript\n",
    "- Importuje sa do projektu použitím kĺúčového slova `import`\n",
    "- Pri importovaní modulu je možné priradiť mu alias - skratku, ktorá sa používa ďalej v skripte na zavolanie funkcií alebo metód tried modulu (napr. `import my_module as mod`)\n",
    "- Možnosť importovať len konkrétne objekty/funkcie z knižnice (napr. `from my_module import module_foo`)\n",
    "\n",
    "**Vytvorenie modulu**\n",
    "- Python skript (my_module.py)\n",
    "\n",
    "**Príklad:**"
   ],
   "id": "bca991e1d09cbd23"
  },
  {
   "metadata": {},
   "cell_type": "code",
   "outputs": [],
   "execution_count": null,
   "source": [
    "import my_module\n",
    "\n",
    "my_module.module_foo()"
   ],
   "id": "64a14c9982b24911"
  },
  {
   "metadata": {},
   "cell_type": "markdown",
   "source": "**Úloha:** Vytvorte vlastný modul a importujte ho do projektu s aliasom.",
   "id": "4605cde968ca4202"
  },
  {
   "metadata": {},
   "cell_type": "code",
   "outputs": [],
   "execution_count": null,
   "source": [
    "# TODO\n",
    "import my_module as mod\n",
    "mod.module_foo()\n"
   ],
   "id": "110950c710cceada"
  },
  {
   "metadata": {},
   "cell_type": "markdown",
   "source": [
    "---\n",
    "## **10. Ošetrovanie výnimiek**\n",
    "- Pri ošetrovaní výnimiek sa používa `try-except` blok - [Dokumentácia errors](https://docs.python.org/3/tutorial/errors.html)\n",
    "- Príklady základných typov výnimiek:\n",
    "    - TypeError: vykonanie operácie s nekompatibilným typom (sčítanie reťazca a čísla)\n",
    "    - IndexError: pristúpenie k prvku zoznamu pomocou indexu, ktorý je mimo rozsah\n",
    "    - KeyError: pristúpenie k hodnote v slovníku pomocou kľúča, ktorý neexistuje\n",
    "    - ValueError: funkcia dostane argument s nevhodnou hodnotou\n",
    "    - NameError: použitie nedefinovanej premennej\n",
    "    - FileNotFoundError: pokus o otvorenie neexistujúceho súboru\n",
    "    - ZeroDivisionError: delenie čísla nulou\n",
    "\n",
    "**Príklad:**"
   ],
   "id": "aefce2067ad4ed2d"
  },
  {
   "metadata": {},
   "cell_type": "code",
   "outputs": [],
   "execution_count": null,
   "source": [
    "undefined_variable = 5\n",
    "\n",
    "try:\n",
    "    print(undefined_variable)\n",
    "except NameError as e:\n",
    "    print(\"Error:\", e)"
   ],
   "id": "5f21d83656a37d80"
  },
  {
   "metadata": {},
   "cell_type": "markdown",
   "source": "**Úloha:** Ošetrite výnimku pri delení čísla nulou.",
   "id": "63742b5a0461e012"
  },
  {
   "metadata": {},
   "cell_type": "code",
   "outputs": [],
   "execution_count": null,
   "source": [
    "# TODO\n",
    "variable = 8\n",
    "\n",
    "try:\n",
    "    print(variable / 0)\n",
    "except NameError as ez:\n",
    "    print(\"Error dividing by zero:\", ez)"
   ],
   "id": "f567403cf174af0e"
  },
  {
   "metadata": {},
   "cell_type": "markdown",
   "source": [
    "---\n",
    "## **11. Práca s obrázkami**\n",
    "Na prácu s obrázkami sa používajú knižnice, napr. pillow (PIL) - [Dokumentácia Image](https://pillow.readthedocs.io/en/stable/reference/Image.html)\n",
    "- Základnými operáciami pre prácu s obrázkami sú načítanie a uloženie (open/save)\n",
    "- Knižnice ponúkajú rôzne možnosti transformácie obrazu, napr. prevod na odtiene šedej (hodnoty 0-255) - funkcia convert [Dokumentácia convert](https://www.codecademy.com/resources/docs/pillow/image/convert)\n",
    "- Normalizácia obrazu (prevod na hodnoty 0-1) je prospešná pre strojové učenie\n",
    "- Knižnice ponúkajú množstvo ďalších úprav (rotácie, orezanie, zmena veľkosti, pridanie filtrov, atď.) - všetky operácie sú vždy dostupné v dokumentácii knižnice\n",
    "\n",
    "**Príklad:**"
   ],
   "id": "660ea0fa77d499e"
  },
  {
   "metadata": {},
   "cell_type": "code",
   "outputs": [],
   "execution_count": null,
   "source": [
    "# pip install pillow\n",
    "from PIL import Image\n",
    "img = Image.open(\"data/microscope.jpg\")\n",
    "gray_img = img.convert(\"L\")\n",
    "gray_img.save(\"data/microscope_g.jpg\")"
   ],
   "id": "9998365d5e5fa637"
  },
  {
   "metadata": {},
   "cell_type": "markdown",
   "source": "**Úloha:** Otvorte obrázok `microscope_g.jpg`, otočte ho o 90° a uložte. Použite funkciu rotate - [Dokumentácia rotate](https://www.codecademy.com/resources/docs/pillow/image/rotate)",
   "id": "87e5e25792fc8eb3"
  },
  {
   "metadata": {},
   "cell_type": "code",
   "outputs": [],
   "execution_count": null,
   "source": [
    "# TODO\n",
    "# pip install pillow\n",
    "from PIL import Image\n",
    "img = Image.open(\"data/microscope.jpg\")\n",
    "img.rotate(90)\n",
    "gray_img.save(\"data/microscope_g.jpg\")"
   ],
   "id": "b942b65e689a982b"
  },
  {
   "metadata": {},
   "cell_type": "markdown",
   "source": [
    "---\n",
    "\n",
    "## **12. OOP v Pythone**\n",
    "- Triedy definujeme pomocou `class`.\n",
    "- Používame konštruktor `__init__`.\n",
    "- Prístup k atribútom triedy je pomocou `self`.\n",
    "- Metódy triedy majú ako prvý parameter `self`.\n",
    "- Metódy triedy sa volajú na inštancii triedy.\n",
    "- Atribúty triedy sú definované v konštruktore.\n",
    "- Metódy triedy sú definované v rámci triedy.\n",
    "- Prístup k atribútom triedy je pomocou `.`.\n",
    "- Vytvorenie inštancie triedy - `object = ClassName()`.\n",
    "- Dedičnosť - trieda môže dediť od inej triedy.\n",
    "- Trieda môže byť abstraktná - nemôže byť inštanciovaná, ale môže byť použitá ako základ pre iné triedy.\n",
    "- Polymorfizmus - triedy môžu mať metódy s rovnakým názvom, ale s rôznou implementáciou.\n",
    "- Encapsulácia - skrytie atribútov triedy pred priamym prístupom zvonku.\n",
    "- Private atribúty a metódy - začínajú dvojitým podčiarkovníkom `__`.\n",
    "\n",
    "**Príklad:**"
   ],
   "id": "1a88b2f5b5f37675"
  },
  {
   "metadata": {},
   "cell_type": "code",
   "outputs": [],
   "execution_count": null,
   "source": [
    "class Patient:\n",
    "    def __init__(self, name, age, diagnosis):\n",
    "        self.name = name\n",
    "        self.age = age\n",
    "        self.diagnosis = diagnosis\n",
    "\n",
    "    def __check_if_info_is_defined(self):\n",
    "        if self.name and self.age and self.diagnosis:\n",
    "            return True\n",
    "        return False\n",
    "\n",
    "    def display_info(self):\n",
    "        if self.__check_if_info_is_defined():\n",
    "            print(f\"Patient: {self.name}, Age: {self.age}, Diagnosis: {self.diagnosis}\")\n",
    "        else:\n",
    "            print(\"Some of the information is undefined.\")\n",
    "\n",
    "p1 = Patient(\"Anna\", 30, \"Diabetes\")\n",
    "p2 = Patient(\"Peter\", 25, None)\n",
    "p1.display_info()\n",
    "p2.display_info()"
   ],
   "id": "51bcb27d40c9647f"
  },
  {
   "metadata": {},
   "cell_type": "markdown",
   "source": "**Úloha:** Vytvorte triedu `Doctor` s atribútmi `name`, `specialization` a `patients`. Vytvorte metódu `add_patient`, ktorá pridá pacienta do zoznamu pacientov. - [Dokumentácia classes](https://docs.python.org/3/tutorial/classes.html). Pridajte pacientov p1 a p2 do zoznamu a vypíšte zoznam pacientov.",
   "id": "d034cc6f674d066"
  },
  {
   "metadata": {},
   "cell_type": "code",
   "outputs": [],
   "execution_count": null,
   "source": [
    "# TODO\n",
    "class Doctor:\n",
    "    def __init__(self, name, specialization, patients):\n",
    "        self.name = name\n",
    "        self.specialization = specialization\n",
    "        self.patients = patients\n",
    "\n",
    "        def add_patient(self, patient):\n",
    "            self.patients.append(patient)\n",
    "\n",
    "p1 = Patient(\"Anna\", 30, \"Diabetes\")\n",
    "p2 = Patient(\"Peter\", 25, None)\n",
    "d1 = Doctor(\"Dr. House\", \"General\", [])\n",
    "d1.add_patient(p1)\n",
    "d1.add_patient(p2)"
   ],
   "id": "207cc13458c89f07"
  },
  {
   "metadata": {},
   "cell_type": "markdown",
   "source": [
    "---\n",
    "\n",
    "## **13. Lambda funkcie**\n",
    "\n",
    "- Lambda funkcie sú anonymné funkcie, definované pomocou kľúčového slova lambda - [Dokumentácia lambda](https://docs.python.org/3/reference/expressions.html#lambda)\n",
    "- Môže mať ľubovoľný počet argumentov, a obsahuje výraz alebo list výrazov, ktorý je vyhodnotený a vrátený\n",
    "- Forma zápisu je `lambda arguments: expression`\n",
    "- Používa sa na definovanie jednoduchých funkcií, ktoré sa používajú len raz\n",
    "- Môže byť použitá spoločne s funkciami `map`, `filter`, `reduce`\n",
    "- Môže obsahovať podmienky a cykly\n",
    "\n",
    "**Príklad:**"
   ],
   "id": "fdae37a4559f31"
  },
  {
   "metadata": {},
   "cell_type": "code",
   "outputs": [],
   "execution_count": null,
   "source": [
    "# Lambda function to calculate square of a number\n",
    "square = lambda x: x**2\n",
    "\n",
    "print(\"Square of 5 using lambda function:\", square(5))"
   ],
   "id": "e630c728ac5c3f9"
  },
  {
   "metadata": {},
   "cell_type": "markdown",
   "source": "**Úloha:** Vytvorte lambda funkciu s podmienkou (`if-else`), ktorá vráti text `even` alebo `odd`, podľa toho, čí je číslo párne alebo nepárne. Použitie podmienky v lambda funkcii má formu `lambda arguments: true_return_expression if condition else false_return_expression`.",
   "id": "6f696c6f25f29785"
  },
  {
   "metadata": {},
   "cell_type": "code",
   "outputs": [],
   "execution_count": null,
   "source": [
    "# TODO\n",
    "even_odd = lambda x: \"even\" if x % 2 == 0 else \"odd\""
   ],
   "id": "46dd2b4f02d19f84"
  },
  {
   "metadata": {},
   "cell_type": "markdown",
   "source": [
    "---\n",
    "## **14. Mapovanie, Filtrovanie a Redukcia**\n",
    "\n",
    "- Tieto fukcie sa používajú pri spracovaní kolekcií, ako sú zoznamy, slovníky, množiny, atď., podobne ako v jazyku Matlab.\n",
    "+ **`map`** - [Dokumentácia map](https://docs.python.org/3/library/functions.html#map)\n",
    "    - Aplikuje danú funkciu na každý prvok iterovateľného objektu (napr. zoznam) a vracia iterátor s výsledkami\n",
    "    - napr. použitie s lambda funkciou na výpočet štvorca každého čísla v zozname numbers\n",
    "+ **`filter`** - [Dokumentácia filter](https://docs.python.org/3/library/functions.html#filter)\n",
    "    - Odfiltruje prvky iterovateľného objektu, ponechávajúc len tie, pre ktoré funkcia vráti True\n",
    "    - napr. lambda funkcia s vyselektovanie len párnych čísel zo zoznamu numbers\n",
    "+ **`reduce`** - [Dokumentácia reduce](https://docs.python.org/3/library/functools.html)\n",
    "    - Postupne aplikuje funkciu na prvky iterovateľného objektu, znižuje ich na jediný výsledok\n",
    "    - napr. funkcia reduce z modulu functools s lambda funkciou na výpočet súčinu všetkých čísel v zozname numbers\n",
    "\n",
    "**Príklad:**"
   ],
   "id": "b1e9dea3d0ba96c4"
  },
  {
   "metadata": {},
   "cell_type": "code",
   "outputs": [],
   "execution_count": null,
   "source": [
    "# map function\n",
    "numbers = [1, 2, 3, 4, 5]\n",
    "\n",
    "squared_numbers = list(map(lambda x: x**2, numbers))\n",
    "print(\"Squared numbers:\", squared_numbers)\n",
    "\n",
    "# filter function\n",
    "even_numbers = list(filter(lambda x: x % 2 == 0, numbers))\n",
    "print(\"Even numbers:\", even_numbers)\n",
    "\n",
    "# reduce function\n",
    "from functools import reduce\n",
    "product = reduce(lambda x, y: x * y, numbers)\n",
    "print(\"Product of numbers:\", product)"
   ],
   "id": "4d5342e908232adc"
  },
  {
   "metadata": {},
   "cell_type": "markdown",
   "source": "**Úloha:** Vytvorte zoznam `ages` s vekmi pacientov. Použite funkciu `filter` a lambda funkciu na vyselektovanie pacientov vo veku 18-65 rokov.",
   "id": "610ef62c213a3fb6"
  },
  {
   "metadata": {},
   "cell_type": "code",
   "outputs": [],
   "execution_count": null,
   "source": [
    "# TODO\n",
    "ages = [15, 18, 25, 30, 67]\n",
    "filtered_ages = list(filter(lambda x: x >= 18 and x <= 65, ages))\n",
    "print(filtered_ages)\n"
   ],
   "id": "1ebf51156cfbf6dd"
  },
  {
   "metadata": {},
   "cell_type": "markdown",
   "source": [
    "---\n",
    "\n",
    "## **15. Práca s DataFrame (Pandas)**\n",
    "Použitie knižnice `pandas` na spracovanie tabuliek - [Dokumentácia DataFrame](https://pandas.pydata.org/docs/reference/api/pandas.DataFrame.html)\n",
    "- Dataframe je dvojrozmerná dátová štruktúra (tabuľka) v knižnici Pandas, vhodná pre spracovanie textových a číselných datasetov\n",
    "- Práca so štruktúrovanými dátami\n",
    "- Využitie štruktúry DataFrame je vhodné najmä kvôli efektívnej implementácii rôznych operácií nad dátami\n",
    "- Základné vlastnosti DataFrame:\n",
    "    - Môže obsahovať heterogénne údaje - čísla, reťazce, objekty, ..\n",
    "    - Podporuje aritmetické operácie na riadkoch a stĺpcoch\n",
    "    - Umožňuje jednoduché zlučovanie, spájanie, filtrácia dát, atď.\n",
    "\n",
    "**Príklad:**"
   ],
   "id": "3fe1b64d43bbad16"
  },
  {
   "metadata": {},
   "cell_type": "code",
   "outputs": [],
   "execution_count": null,
   "source": [
    "import pandas as pd\n",
    "\n",
    "# create DataFrame from dictionary\n",
    "data = {\n",
    "    'name': ['Christina', 'Jan', 'Peter', 'Adam'],\n",
    "    'age': [28, 15, 29, 67],\n",
    "    'city': ['New York', 'Los Angeles', 'Chicago', 'Boston']\n",
    "}\n",
    "df = pd.DataFrame(data)\n",
    "\n",
    "# show dataframe\n",
    "print(df)"
   ],
   "id": "1747decca0491e69"
  },
  {
   "metadata": {},
   "cell_type": "markdown",
   "source": "**Úloha:** Vytvorte DataFrame s dátami zo súboru `data/example.csv`. Pre vytvorenie DataFrame priamo z csv súboru použite funkciu read_csv - [Dokumentácia read_csv](https://pandas.pydata.org/docs/reference/api/pandas.read_csv.html). Použite funkciu `describe` na zobrazenie štatistík dát - [Dokumentácia describe](https://pandas.pydata.org/docs/reference/api/pandas.DataFrame.describe.html).",
   "id": "c0ecee0670d004c0"
  },
  {
   "metadata": {},
   "cell_type": "code",
   "outputs": [],
   "execution_count": null,
   "source": "# TODO",
   "id": "bfe6503a82638036"
  },
  {
   "metadata": {},
   "cell_type": "markdown",
   "source": [
    "---\n",
    "\n",
    "### **Zhrnutie**\n",
    "- Python je jednoduchý jazyk vhodný na spracovanie dát.\n",
    "- Poskytuje množstvo knižníc na spracovanie dát, strojové učenie, vizualizáciu, atď.\n",
    "\n",
    "##### Referencie\n",
    "\n",
    "https://docs.python.org/3.12/tutorial/index.html\n",
    "\n",
    "https://python.input.sk/z/01.html\n",
    "\n",
    "https://unsplash.com/photos/a-close-up-of-a-section-of-a-humans-stomach-Q2PkRn63Oug"
   ],
   "id": "a5eb103625fdbec5"
  }
 ],
 "metadata": {
  "kernelspec": {
   "display_name": "Python 3",
   "language": "python",
   "name": "python3"
  },
  "language_info": {
   "codemirror_mode": {
    "name": "ipython",
    "version": 2
   },
   "file_extension": ".py",
   "mimetype": "text/x-python",
   "name": "python",
   "nbconvert_exporter": "python",
   "pygments_lexer": "ipython2",
   "version": "2.7.6"
  }
 },
 "nbformat": 4,
 "nbformat_minor": 5
}
