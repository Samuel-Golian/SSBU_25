{
 "cells": [
  {
   "metadata": {},
   "cell_type": "markdown",
   "source": [
    "# **SSBU CV4: Predspracovanie a analýza údajov**\n",
    "\n",
    "Predpracovanie údajov a analýza zahŕňa niekoľko základných fáz, ktoré môžeme aplikovať vo vybranom programovacom jazyku (napr. Python alebo R).  Budeme pracovať s datasetom **U.S. Chronic Disease Indicators (CDI)**, ktorý obsahuje informácie o chronických ochoreniach v USA.\n",
    "\n",
    "---\n",
    "\n",
    "## **1. Úvod: Stiahnutie datasetu a základný prehľad**\n",
    "\n",
    "**Úloha 1.1: Stiahnite dataset**\n",
    "Chceme stiahnuť dataset **U.S. Chronic Disease Indicators (CDI)** z databázy [data.gov](https://data.gov/).\n",
    "\n",
    "**Hinty:**\n",
    "1. Vyhľadajte na stránke dataset s názvom \"U.S. Chronic Disease Indicators (CDI)\".\n",
    "2. Zanalyzujte možnosti stiahnutia datasetu.\n",
    "3. Zanalyzujte možnosti načítania datasetu do DataFrame (použite dokumentáciu k metóde `pd.read_csv(...)`) - [Dokumentácia read_csv](https://pandas.pydata.org/docs/reference/api/pandas.read_csv.html)\n",
    "4. Stiahnite dataset a načítajte ho do premennej `data`.\n",
    "5. Skontrolujte správne načítanie datasetu."
   ],
   "id": "54f5256e9555264e"
  },
  {
   "metadata": {
    "ExecuteTime": {
     "end_time": "2025-03-30T19:02:26.749717Z",
     "start_time": "2025-03-30T19:01:43.664217Z"
    }
   },
   "cell_type": "code",
   "source": [
    "import pandas as pd\n",
    "\n",
    "# URL of the dataset (replace with the actual URL from data.gov)\n",
    "#url = 'https://data.cdc.gov/api/views/6vp6-wxuq/rows.csv?accessType=DOWNLOAD'\n",
    "\n",
    "# Load the dataset into a DataFrame\n",
    "#data = pd.read_csv(url)\n",
    "\n",
    "# Check the first few rows of the dataset to ensure it is loaded correctly\n",
    "#print(data.head())\n",
    "import requests\n",
    "from io import StringIO\n",
    "\n",
    "# URL of the dataset\n",
    "url = 'https://data.cdc.gov/api/views/6vp6-wxuq/rows.csv?accessType=DOWNLOAD'\n",
    "\n",
    "# Disable SSL verification\n",
    "response = requests.get(url, verify=False)\n",
    "\n",
    "# Load the dataset into a DataFrame\n",
    "data = pd.read_csv(StringIO(response.text))\n",
    "\n",
    "# Check the first few rows of the dataset to ensure it is loaded correctly\n",
    "print(data.head())"
   ],
   "id": "43a1e621a2ceea1f",
   "outputs": [
    {
     "name": "stderr",
     "output_type": "stream",
     "text": [
      "C:\\Users\\samue\\AppData\\Local\\Programs\\Python\\Python313\\Lib\\site-packages\\urllib3\\connectionpool.py:1099: InsecureRequestWarning: Unverified HTTPS request is being made to host 'data.cdc.gov'. Adding certificate verification is strongly advised. See: https://urllib3.readthedocs.io/en/latest/advanced-usage.html#tls-warnings\n",
      "  warnings.warn(\n"
     ]
    },
    {
     "ename": "KeyboardInterrupt",
     "evalue": "",
     "output_type": "error",
     "traceback": [
      "\u001B[1;31m---------------------------------------------------------------------------\u001B[0m",
      "\u001B[1;31mKeyboardInterrupt\u001B[0m                         Traceback (most recent call last)",
      "Cell \u001B[1;32mIn[4], line 18\u001B[0m\n\u001B[0;32m     15\u001B[0m url \u001B[38;5;241m=\u001B[39m \u001B[38;5;124m'\u001B[39m\u001B[38;5;124mhttps://data.cdc.gov/api/views/6vp6-wxuq/rows.csv?accessType=DOWNLOAD\u001B[39m\u001B[38;5;124m'\u001B[39m\n\u001B[0;32m     17\u001B[0m \u001B[38;5;66;03m# Disable SSL verification\u001B[39;00m\n\u001B[1;32m---> 18\u001B[0m response \u001B[38;5;241m=\u001B[39m \u001B[43mrequests\u001B[49m\u001B[38;5;241;43m.\u001B[39;49m\u001B[43mget\u001B[49m\u001B[43m(\u001B[49m\u001B[43murl\u001B[49m\u001B[43m,\u001B[49m\u001B[43m \u001B[49m\u001B[43mverify\u001B[49m\u001B[38;5;241;43m=\u001B[39;49m\u001B[38;5;28;43;01mFalse\u001B[39;49;00m\u001B[43m)\u001B[49m\n\u001B[0;32m     20\u001B[0m \u001B[38;5;66;03m# Load the dataset into a DataFrame\u001B[39;00m\n\u001B[0;32m     21\u001B[0m data \u001B[38;5;241m=\u001B[39m pd\u001B[38;5;241m.\u001B[39mread_csv(StringIO(response\u001B[38;5;241m.\u001B[39mtext))\n",
      "File \u001B[1;32m~\\AppData\\Local\\Programs\\Python\\Python313\\Lib\\site-packages\\requests\\api.py:73\u001B[0m, in \u001B[0;36mget\u001B[1;34m(url, params, **kwargs)\u001B[0m\n\u001B[0;32m     62\u001B[0m \u001B[38;5;28;01mdef\u001B[39;00m \u001B[38;5;21mget\u001B[39m(url, params\u001B[38;5;241m=\u001B[39m\u001B[38;5;28;01mNone\u001B[39;00m, \u001B[38;5;241m*\u001B[39m\u001B[38;5;241m*\u001B[39mkwargs):\n\u001B[0;32m     63\u001B[0m \u001B[38;5;250m    \u001B[39m\u001B[38;5;124mr\u001B[39m\u001B[38;5;124;03m\"\"\"Sends a GET request.\u001B[39;00m\n\u001B[0;32m     64\u001B[0m \n\u001B[0;32m     65\u001B[0m \u001B[38;5;124;03m    :param url: URL for the new :class:`Request` object.\u001B[39;00m\n\u001B[1;32m   (...)\u001B[0m\n\u001B[0;32m     70\u001B[0m \u001B[38;5;124;03m    :rtype: requests.Response\u001B[39;00m\n\u001B[0;32m     71\u001B[0m \u001B[38;5;124;03m    \"\"\"\u001B[39;00m\n\u001B[1;32m---> 73\u001B[0m     \u001B[38;5;28;01mreturn\u001B[39;00m \u001B[43mrequest\u001B[49m\u001B[43m(\u001B[49m\u001B[38;5;124;43m\"\u001B[39;49m\u001B[38;5;124;43mget\u001B[39;49m\u001B[38;5;124;43m\"\u001B[39;49m\u001B[43m,\u001B[49m\u001B[43m \u001B[49m\u001B[43murl\u001B[49m\u001B[43m,\u001B[49m\u001B[43m \u001B[49m\u001B[43mparams\u001B[49m\u001B[38;5;241;43m=\u001B[39;49m\u001B[43mparams\u001B[49m\u001B[43m,\u001B[49m\u001B[43m \u001B[49m\u001B[38;5;241;43m*\u001B[39;49m\u001B[38;5;241;43m*\u001B[39;49m\u001B[43mkwargs\u001B[49m\u001B[43m)\u001B[49m\n",
      "File \u001B[1;32m~\\AppData\\Local\\Programs\\Python\\Python313\\Lib\\site-packages\\requests\\api.py:59\u001B[0m, in \u001B[0;36mrequest\u001B[1;34m(method, url, **kwargs)\u001B[0m\n\u001B[0;32m     55\u001B[0m \u001B[38;5;66;03m# By using the 'with' statement we are sure the session is closed, thus we\u001B[39;00m\n\u001B[0;32m     56\u001B[0m \u001B[38;5;66;03m# avoid leaving sockets open which can trigger a ResourceWarning in some\u001B[39;00m\n\u001B[0;32m     57\u001B[0m \u001B[38;5;66;03m# cases, and look like a memory leak in others.\u001B[39;00m\n\u001B[0;32m     58\u001B[0m \u001B[38;5;28;01mwith\u001B[39;00m sessions\u001B[38;5;241m.\u001B[39mSession() \u001B[38;5;28;01mas\u001B[39;00m session:\n\u001B[1;32m---> 59\u001B[0m     \u001B[38;5;28;01mreturn\u001B[39;00m \u001B[43msession\u001B[49m\u001B[38;5;241;43m.\u001B[39;49m\u001B[43mrequest\u001B[49m\u001B[43m(\u001B[49m\u001B[43mmethod\u001B[49m\u001B[38;5;241;43m=\u001B[39;49m\u001B[43mmethod\u001B[49m\u001B[43m,\u001B[49m\u001B[43m \u001B[49m\u001B[43murl\u001B[49m\u001B[38;5;241;43m=\u001B[39;49m\u001B[43murl\u001B[49m\u001B[43m,\u001B[49m\u001B[43m \u001B[49m\u001B[38;5;241;43m*\u001B[39;49m\u001B[38;5;241;43m*\u001B[39;49m\u001B[43mkwargs\u001B[49m\u001B[43m)\u001B[49m\n",
      "File \u001B[1;32m~\\AppData\\Local\\Programs\\Python\\Python313\\Lib\\site-packages\\requests\\sessions.py:589\u001B[0m, in \u001B[0;36mSession.request\u001B[1;34m(self, method, url, params, data, headers, cookies, files, auth, timeout, allow_redirects, proxies, hooks, stream, verify, cert, json)\u001B[0m\n\u001B[0;32m    584\u001B[0m send_kwargs \u001B[38;5;241m=\u001B[39m {\n\u001B[0;32m    585\u001B[0m     \u001B[38;5;124m\"\u001B[39m\u001B[38;5;124mtimeout\u001B[39m\u001B[38;5;124m\"\u001B[39m: timeout,\n\u001B[0;32m    586\u001B[0m     \u001B[38;5;124m\"\u001B[39m\u001B[38;5;124mallow_redirects\u001B[39m\u001B[38;5;124m\"\u001B[39m: allow_redirects,\n\u001B[0;32m    587\u001B[0m }\n\u001B[0;32m    588\u001B[0m send_kwargs\u001B[38;5;241m.\u001B[39mupdate(settings)\n\u001B[1;32m--> 589\u001B[0m resp \u001B[38;5;241m=\u001B[39m \u001B[38;5;28;43mself\u001B[39;49m\u001B[38;5;241;43m.\u001B[39;49m\u001B[43msend\u001B[49m\u001B[43m(\u001B[49m\u001B[43mprep\u001B[49m\u001B[43m,\u001B[49m\u001B[43m \u001B[49m\u001B[38;5;241;43m*\u001B[39;49m\u001B[38;5;241;43m*\u001B[39;49m\u001B[43msend_kwargs\u001B[49m\u001B[43m)\u001B[49m\n\u001B[0;32m    591\u001B[0m \u001B[38;5;28;01mreturn\u001B[39;00m resp\n",
      "File \u001B[1;32m~\\AppData\\Local\\Programs\\Python\\Python313\\Lib\\site-packages\\requests\\sessions.py:746\u001B[0m, in \u001B[0;36mSession.send\u001B[1;34m(self, request, **kwargs)\u001B[0m\n\u001B[0;32m    743\u001B[0m         \u001B[38;5;28;01mpass\u001B[39;00m\n\u001B[0;32m    745\u001B[0m \u001B[38;5;28;01mif\u001B[39;00m \u001B[38;5;129;01mnot\u001B[39;00m stream:\n\u001B[1;32m--> 746\u001B[0m     \u001B[43mr\u001B[49m\u001B[38;5;241;43m.\u001B[39;49m\u001B[43mcontent\u001B[49m\n\u001B[0;32m    748\u001B[0m \u001B[38;5;28;01mreturn\u001B[39;00m r\n",
      "File \u001B[1;32m~\\AppData\\Local\\Programs\\Python\\Python313\\Lib\\site-packages\\requests\\models.py:902\u001B[0m, in \u001B[0;36mResponse.content\u001B[1;34m(self)\u001B[0m\n\u001B[0;32m    900\u001B[0m         \u001B[38;5;28mself\u001B[39m\u001B[38;5;241m.\u001B[39m_content \u001B[38;5;241m=\u001B[39m \u001B[38;5;28;01mNone\u001B[39;00m\n\u001B[0;32m    901\u001B[0m     \u001B[38;5;28;01melse\u001B[39;00m:\n\u001B[1;32m--> 902\u001B[0m         \u001B[38;5;28mself\u001B[39m\u001B[38;5;241m.\u001B[39m_content \u001B[38;5;241m=\u001B[39m \u001B[38;5;124;43mb\u001B[39;49m\u001B[38;5;124;43m\"\u001B[39;49m\u001B[38;5;124;43m\"\u001B[39;49m\u001B[38;5;241;43m.\u001B[39;49m\u001B[43mjoin\u001B[49m\u001B[43m(\u001B[49m\u001B[38;5;28;43mself\u001B[39;49m\u001B[38;5;241;43m.\u001B[39;49m\u001B[43miter_content\u001B[49m\u001B[43m(\u001B[49m\u001B[43mCONTENT_CHUNK_SIZE\u001B[49m\u001B[43m)\u001B[49m\u001B[43m)\u001B[49m \u001B[38;5;129;01mor\u001B[39;00m \u001B[38;5;124mb\u001B[39m\u001B[38;5;124m\"\u001B[39m\u001B[38;5;124m\"\u001B[39m\n\u001B[0;32m    904\u001B[0m \u001B[38;5;28mself\u001B[39m\u001B[38;5;241m.\u001B[39m_content_consumed \u001B[38;5;241m=\u001B[39m \u001B[38;5;28;01mTrue\u001B[39;00m\n\u001B[0;32m    905\u001B[0m \u001B[38;5;66;03m# don't need to release the connection; that's been handled by urllib3\u001B[39;00m\n\u001B[0;32m    906\u001B[0m \u001B[38;5;66;03m# since we exhausted the data.\u001B[39;00m\n",
      "File \u001B[1;32m~\\AppData\\Local\\Programs\\Python\\Python313\\Lib\\site-packages\\requests\\models.py:820\u001B[0m, in \u001B[0;36mResponse.iter_content.<locals>.generate\u001B[1;34m()\u001B[0m\n\u001B[0;32m    818\u001B[0m \u001B[38;5;28;01mif\u001B[39;00m \u001B[38;5;28mhasattr\u001B[39m(\u001B[38;5;28mself\u001B[39m\u001B[38;5;241m.\u001B[39mraw, \u001B[38;5;124m\"\u001B[39m\u001B[38;5;124mstream\u001B[39m\u001B[38;5;124m\"\u001B[39m):\n\u001B[0;32m    819\u001B[0m     \u001B[38;5;28;01mtry\u001B[39;00m:\n\u001B[1;32m--> 820\u001B[0m         \u001B[38;5;28;01myield from\u001B[39;00m \u001B[38;5;28mself\u001B[39m\u001B[38;5;241m.\u001B[39mraw\u001B[38;5;241m.\u001B[39mstream(chunk_size, decode_content\u001B[38;5;241m=\u001B[39m\u001B[38;5;28;01mTrue\u001B[39;00m)\n\u001B[0;32m    821\u001B[0m     \u001B[38;5;28;01mexcept\u001B[39;00m ProtocolError \u001B[38;5;28;01mas\u001B[39;00m e:\n\u001B[0;32m    822\u001B[0m         \u001B[38;5;28;01mraise\u001B[39;00m ChunkedEncodingError(e)\n",
      "File \u001B[1;32m~\\AppData\\Local\\Programs\\Python\\Python313\\Lib\\site-packages\\urllib3\\response.py:1057\u001B[0m, in \u001B[0;36mHTTPResponse.stream\u001B[1;34m(self, amt, decode_content)\u001B[0m\n\u001B[0;32m   1041\u001B[0m \u001B[38;5;250m\u001B[39m\u001B[38;5;124;03m\"\"\"\u001B[39;00m\n\u001B[0;32m   1042\u001B[0m \u001B[38;5;124;03mA generator wrapper for the read() method. A call will block until\u001B[39;00m\n\u001B[0;32m   1043\u001B[0m \u001B[38;5;124;03m``amt`` bytes have been read from the connection or until the\u001B[39;00m\n\u001B[1;32m   (...)\u001B[0m\n\u001B[0;32m   1054\u001B[0m \u001B[38;5;124;03m    'content-encoding' header.\u001B[39;00m\n\u001B[0;32m   1055\u001B[0m \u001B[38;5;124;03m\"\"\"\u001B[39;00m\n\u001B[0;32m   1056\u001B[0m \u001B[38;5;28;01mif\u001B[39;00m \u001B[38;5;28mself\u001B[39m\u001B[38;5;241m.\u001B[39mchunked \u001B[38;5;129;01mand\u001B[39;00m \u001B[38;5;28mself\u001B[39m\u001B[38;5;241m.\u001B[39msupports_chunked_reads():\n\u001B[1;32m-> 1057\u001B[0m     \u001B[38;5;28;01myield from\u001B[39;00m \u001B[38;5;28mself\u001B[39m\u001B[38;5;241m.\u001B[39mread_chunked(amt, decode_content\u001B[38;5;241m=\u001B[39mdecode_content)\n\u001B[0;32m   1058\u001B[0m \u001B[38;5;28;01melse\u001B[39;00m:\n\u001B[0;32m   1059\u001B[0m     \u001B[38;5;28;01mwhile\u001B[39;00m \u001B[38;5;129;01mnot\u001B[39;00m is_fp_closed(\u001B[38;5;28mself\u001B[39m\u001B[38;5;241m.\u001B[39m_fp) \u001B[38;5;129;01mor\u001B[39;00m \u001B[38;5;28mlen\u001B[39m(\u001B[38;5;28mself\u001B[39m\u001B[38;5;241m.\u001B[39m_decoded_buffer) \u001B[38;5;241m>\u001B[39m \u001B[38;5;241m0\u001B[39m:\n",
      "File \u001B[1;32m~\\AppData\\Local\\Programs\\Python\\Python313\\Lib\\site-packages\\urllib3\\response.py:1209\u001B[0m, in \u001B[0;36mHTTPResponse.read_chunked\u001B[1;34m(self, amt, decode_content)\u001B[0m\n\u001B[0;32m   1207\u001B[0m \u001B[38;5;28;01mif\u001B[39;00m \u001B[38;5;28mself\u001B[39m\u001B[38;5;241m.\u001B[39mchunk_left \u001B[38;5;241m==\u001B[39m \u001B[38;5;241m0\u001B[39m:\n\u001B[0;32m   1208\u001B[0m     \u001B[38;5;28;01mbreak\u001B[39;00m\n\u001B[1;32m-> 1209\u001B[0m chunk \u001B[38;5;241m=\u001B[39m \u001B[38;5;28;43mself\u001B[39;49m\u001B[38;5;241;43m.\u001B[39;49m\u001B[43m_handle_chunk\u001B[49m\u001B[43m(\u001B[49m\u001B[43mamt\u001B[49m\u001B[43m)\u001B[49m\n\u001B[0;32m   1210\u001B[0m decoded \u001B[38;5;241m=\u001B[39m \u001B[38;5;28mself\u001B[39m\u001B[38;5;241m.\u001B[39m_decode(\n\u001B[0;32m   1211\u001B[0m     chunk, decode_content\u001B[38;5;241m=\u001B[39mdecode_content, flush_decoder\u001B[38;5;241m=\u001B[39m\u001B[38;5;28;01mFalse\u001B[39;00m\n\u001B[0;32m   1212\u001B[0m )\n\u001B[0;32m   1213\u001B[0m \u001B[38;5;28;01mif\u001B[39;00m decoded:\n",
      "File \u001B[1;32m~\\AppData\\Local\\Programs\\Python\\Python313\\Lib\\site-packages\\urllib3\\response.py:1155\u001B[0m, in \u001B[0;36mHTTPResponse._handle_chunk\u001B[1;34m(self, amt)\u001B[0m\n\u001B[0;32m   1153\u001B[0m     returned_chunk \u001B[38;5;241m=\u001B[39m value\n\u001B[0;32m   1154\u001B[0m \u001B[38;5;28;01melse\u001B[39;00m:  \u001B[38;5;66;03m# amt > self.chunk_left\u001B[39;00m\n\u001B[1;32m-> 1155\u001B[0m     returned_chunk \u001B[38;5;241m=\u001B[39m \u001B[38;5;28;43mself\u001B[39;49m\u001B[38;5;241;43m.\u001B[39;49m\u001B[43m_fp\u001B[49m\u001B[38;5;241;43m.\u001B[39;49m\u001B[43m_safe_read\u001B[49m\u001B[43m(\u001B[49m\u001B[38;5;28;43mself\u001B[39;49m\u001B[38;5;241;43m.\u001B[39;49m\u001B[43mchunk_left\u001B[49m\u001B[43m)\u001B[49m  \u001B[38;5;66;03m# type: ignore[union-attr]\u001B[39;00m\n\u001B[0;32m   1156\u001B[0m     \u001B[38;5;28mself\u001B[39m\u001B[38;5;241m.\u001B[39m_fp\u001B[38;5;241m.\u001B[39m_safe_read(\u001B[38;5;241m2\u001B[39m)  \u001B[38;5;66;03m# type: ignore[union-attr] # Toss the CRLF at the end of the chunk.\u001B[39;00m\n\u001B[0;32m   1157\u001B[0m     \u001B[38;5;28mself\u001B[39m\u001B[38;5;241m.\u001B[39mchunk_left \u001B[38;5;241m=\u001B[39m \u001B[38;5;28;01mNone\u001B[39;00m\n",
      "File \u001B[1;32m~\\AppData\\Local\\Programs\\Python\\Python313\\Lib\\http\\client.py:642\u001B[0m, in \u001B[0;36mHTTPResponse._safe_read\u001B[1;34m(self, amt)\u001B[0m\n\u001B[0;32m    635\u001B[0m \u001B[38;5;28;01mdef\u001B[39;00m \u001B[38;5;21m_safe_read\u001B[39m(\u001B[38;5;28mself\u001B[39m, amt):\n\u001B[0;32m    636\u001B[0m \u001B[38;5;250m    \u001B[39m\u001B[38;5;124;03m\"\"\"Read the number of bytes requested.\u001B[39;00m\n\u001B[0;32m    637\u001B[0m \n\u001B[0;32m    638\u001B[0m \u001B[38;5;124;03m    This function should be used when <amt> bytes \"should\" be present for\u001B[39;00m\n\u001B[0;32m    639\u001B[0m \u001B[38;5;124;03m    reading. If the bytes are truly not available (due to EOF), then the\u001B[39;00m\n\u001B[0;32m    640\u001B[0m \u001B[38;5;124;03m    IncompleteRead exception can be used to detect the problem.\u001B[39;00m\n\u001B[0;32m    641\u001B[0m \u001B[38;5;124;03m    \"\"\"\u001B[39;00m\n\u001B[1;32m--> 642\u001B[0m     data \u001B[38;5;241m=\u001B[39m \u001B[38;5;28;43mself\u001B[39;49m\u001B[38;5;241;43m.\u001B[39;49m\u001B[43mfp\u001B[49m\u001B[38;5;241;43m.\u001B[39;49m\u001B[43mread\u001B[49m\u001B[43m(\u001B[49m\u001B[43mamt\u001B[49m\u001B[43m)\u001B[49m\n\u001B[0;32m    643\u001B[0m     \u001B[38;5;28;01mif\u001B[39;00m \u001B[38;5;28mlen\u001B[39m(data) \u001B[38;5;241m<\u001B[39m amt:\n\u001B[0;32m    644\u001B[0m         \u001B[38;5;28;01mraise\u001B[39;00m IncompleteRead(data, amt\u001B[38;5;241m-\u001B[39m\u001B[38;5;28mlen\u001B[39m(data))\n",
      "File \u001B[1;32m~\\AppData\\Local\\Programs\\Python\\Python313\\Lib\\socket.py:719\u001B[0m, in \u001B[0;36mSocketIO.readinto\u001B[1;34m(self, b)\u001B[0m\n\u001B[0;32m    717\u001B[0m     \u001B[38;5;28;01mraise\u001B[39;00m \u001B[38;5;167;01mOSError\u001B[39;00m(\u001B[38;5;124m\"\u001B[39m\u001B[38;5;124mcannot read from timed out object\u001B[39m\u001B[38;5;124m\"\u001B[39m)\n\u001B[0;32m    718\u001B[0m \u001B[38;5;28;01mtry\u001B[39;00m:\n\u001B[1;32m--> 719\u001B[0m     \u001B[38;5;28;01mreturn\u001B[39;00m \u001B[38;5;28;43mself\u001B[39;49m\u001B[38;5;241;43m.\u001B[39;49m\u001B[43m_sock\u001B[49m\u001B[38;5;241;43m.\u001B[39;49m\u001B[43mrecv_into\u001B[49m\u001B[43m(\u001B[49m\u001B[43mb\u001B[49m\u001B[43m)\u001B[49m\n\u001B[0;32m    720\u001B[0m \u001B[38;5;28;01mexcept\u001B[39;00m timeout:\n\u001B[0;32m    721\u001B[0m     \u001B[38;5;28mself\u001B[39m\u001B[38;5;241m.\u001B[39m_timeout_occurred \u001B[38;5;241m=\u001B[39m \u001B[38;5;28;01mTrue\u001B[39;00m\n",
      "File \u001B[1;32m~\\AppData\\Local\\Programs\\Python\\Python313\\Lib\\ssl.py:1304\u001B[0m, in \u001B[0;36mSSLSocket.recv_into\u001B[1;34m(self, buffer, nbytes, flags)\u001B[0m\n\u001B[0;32m   1300\u001B[0m     \u001B[38;5;28;01mif\u001B[39;00m flags \u001B[38;5;241m!=\u001B[39m \u001B[38;5;241m0\u001B[39m:\n\u001B[0;32m   1301\u001B[0m         \u001B[38;5;28;01mraise\u001B[39;00m \u001B[38;5;167;01mValueError\u001B[39;00m(\n\u001B[0;32m   1302\u001B[0m           \u001B[38;5;124m\"\u001B[39m\u001B[38;5;124mnon-zero flags not allowed in calls to recv_into() on \u001B[39m\u001B[38;5;132;01m%s\u001B[39;00m\u001B[38;5;124m\"\u001B[39m \u001B[38;5;241m%\u001B[39m\n\u001B[0;32m   1303\u001B[0m           \u001B[38;5;28mself\u001B[39m\u001B[38;5;241m.\u001B[39m\u001B[38;5;18m__class__\u001B[39m)\n\u001B[1;32m-> 1304\u001B[0m     \u001B[38;5;28;01mreturn\u001B[39;00m \u001B[38;5;28;43mself\u001B[39;49m\u001B[38;5;241;43m.\u001B[39;49m\u001B[43mread\u001B[49m\u001B[43m(\u001B[49m\u001B[43mnbytes\u001B[49m\u001B[43m,\u001B[49m\u001B[43m \u001B[49m\u001B[43mbuffer\u001B[49m\u001B[43m)\u001B[49m\n\u001B[0;32m   1305\u001B[0m \u001B[38;5;28;01melse\u001B[39;00m:\n\u001B[0;32m   1306\u001B[0m     \u001B[38;5;28;01mreturn\u001B[39;00m \u001B[38;5;28msuper\u001B[39m()\u001B[38;5;241m.\u001B[39mrecv_into(buffer, nbytes, flags)\n",
      "File \u001B[1;32m~\\AppData\\Local\\Programs\\Python\\Python313\\Lib\\ssl.py:1138\u001B[0m, in \u001B[0;36mSSLSocket.read\u001B[1;34m(self, len, buffer)\u001B[0m\n\u001B[0;32m   1136\u001B[0m \u001B[38;5;28;01mtry\u001B[39;00m:\n\u001B[0;32m   1137\u001B[0m     \u001B[38;5;28;01mif\u001B[39;00m buffer \u001B[38;5;129;01mis\u001B[39;00m \u001B[38;5;129;01mnot\u001B[39;00m \u001B[38;5;28;01mNone\u001B[39;00m:\n\u001B[1;32m-> 1138\u001B[0m         \u001B[38;5;28;01mreturn\u001B[39;00m \u001B[38;5;28;43mself\u001B[39;49m\u001B[38;5;241;43m.\u001B[39;49m\u001B[43m_sslobj\u001B[49m\u001B[38;5;241;43m.\u001B[39;49m\u001B[43mread\u001B[49m\u001B[43m(\u001B[49m\u001B[38;5;28;43mlen\u001B[39;49m\u001B[43m,\u001B[49m\u001B[43m \u001B[49m\u001B[43mbuffer\u001B[49m\u001B[43m)\u001B[49m\n\u001B[0;32m   1139\u001B[0m     \u001B[38;5;28;01melse\u001B[39;00m:\n\u001B[0;32m   1140\u001B[0m         \u001B[38;5;28;01mreturn\u001B[39;00m \u001B[38;5;28mself\u001B[39m\u001B[38;5;241m.\u001B[39m_sslobj\u001B[38;5;241m.\u001B[39mread(\u001B[38;5;28mlen\u001B[39m)\n",
      "\u001B[1;31mKeyboardInterrupt\u001B[0m: "
     ]
    }
   ],
   "execution_count": 4
  },
  {
   "metadata": {},
   "cell_type": "markdown",
   "source": [
    "## **2. Fázy predspracovania**\n",
    "Pri práci s údajmi je často uvádzaných 6 hlavných krokov:\n",
    "1. Objavovanie (explore)\n",
    "2. Očistenie (clean)\n",
    "3. Úpravy (mutate)\n",
    "4. Popis (describe)\n",
    "5. Vizualizácia (visualize)\n",
    "6. Analýza (analyze)\n",
    "\n",
    "Nasledujúce sekcie ukazujú, ako tieto fázy aplikovať na dataset.\n",
    "\n",
    "---\n",
    "\n",
    "## **3. Objavovanie (explore)**\n",
    "\n",
    "**Objavovanie dát** znamená vytvoriť si prvotný dojem o údajoch. Tento proces zahŕňa napríklad:\n",
    "- Zistenie, koľko riadkov a stĺpcov údaje obsahujú.\n",
    "- Preskúmanie, či existujú chýbajúce údaje (null, NaN).\n",
    "- Overenie, či sú hodnoty v stĺpcoch logické (napr. negatívny vek u pacienta?).\n",
    "- Prezrenie si základnej štatistiku numerických premenných.\n",
    "\n",
    "Môžeme použiť:\n",
    "- `data.info()` – zobrazí počet riadkov, stĺpcov a typy stĺpcov (obj, float, int, category) - [Dokumentácia info](https://pandas.pydata.org/pandas-docs/stable/reference/api/pandas.DataFrame.info.html).\n",
    "- `data.describe()` – zobrazí štatistiku pre číselné premenné (count, mean, std, min, max, quartiles atď.) - [Dokumentácia describe](https://pandas.pydata.org/pandas-docs/stable/reference/api/pandas.DataFrame.describe.html).\n",
    "- `data.head()` a `data.tail()` – ukážu prvých/posledných pár riadkov - [Dokumentácia head](https://pandas.pydata.org/pandas-docs/stable/reference/api/pandas.DataFrame.head.html), [Dokumentácia tail](https://pandas.pydata.org/pandas-docs/stable/reference/api/pandas.DataFrame.tail.html).\n",
    "- `data.columns` – vráti zoznam názvov stĺpcov - [Dokumentácia columns](https://pandas.pydata.org/pandas-docs/stable/reference/api/pandas.DataFrame.columns.html).\n",
    "\n",
    "**Prečo to robiť:**\n",
    "- V praxi takto odhalíte napr. zlé načítanie údajov, extrémne hodnoty, nečakané stĺpce (napr. ID, duplicitné stĺpce), nedefinované hodnoty alebo formátové chyby.\n"
   ],
   "id": "7dbe54a55d2e356f"
  },
  {
   "metadata": {},
   "cell_type": "markdown",
   "source": [
    "**Úloha:** Vypíšte **posledných 5 riadkov** datasetu.\n",
    "\n"
   ],
   "id": "565af8a49db38279"
  },
  {
   "metadata": {},
   "cell_type": "code",
   "source": "# TODO",
   "id": "dc01d1cc11235ae7",
   "outputs": [],
   "execution_count": null
  },
  {
   "metadata": {},
   "cell_type": "markdown",
   "source": "**Úloha:** Zobrazte zoznam **všetkých stĺpcov** a skontrolujte, či obsahuje stĺpec `LocationDesc`.\n",
   "id": "475b655c2af91d51"
  },
  {
   "metadata": {},
   "cell_type": "code",
   "source": "# TODO",
   "id": "3b100349a55c7462",
   "outputs": [],
   "execution_count": null
  },
  {
   "metadata": {},
   "cell_type": "markdown",
   "source": "**Úloha:** Vyberte jeden stĺpec (napr. `YearStart`) a vypíšte jeho unikátne hodnoty. (Použite metódu `unique()`.) - [Dokumentácia unique](https://pandas.pydata.org/docs/reference/api/pandas.Series.unique.html)",
   "id": "8d300821ef9a64c4"
  },
  {
   "metadata": {},
   "cell_type": "code",
   "source": "# TODO",
   "id": "baec0653c73ebfa7",
   "outputs": [],
   "execution_count": null
  },
  {
   "metadata": {},
   "cell_type": "markdown",
   "source": [
    "**Kategorické a numerické premenné**\n",
    "- **Kategorické premenné** sú premenné, ktoré majú obmedzený počet hodnôt (napr. mená, farby, kategórie).\n",
    "- **Numerické premenné** sú premenné, ktoré majú hodnoty v číselnej forme (napr. vek, výška, cena).\n",
    "- **Časové premenné** sú špeciálny typ numerických premenných, ktoré reprezentujú čas (napr. dátum, čas, časová zóna).\n",
    "- **Textové premenné** sú premenné, ktoré obsahujú text (napr. komentáre, popisy).\n",
    "- **Binárne premenné** sú špeciálny typ kategorických premenných, ktoré majú iba dve hodnoty (napr. True/False, 0/1).\n",
    "\n",
    "Prečo je dôležité rozlišovať medzi nimi?\n",
    "- Pri vizualizácii sa používajú rôzne typy grafov pre rôzne typy premenných.\n",
    "- Pri analýze sa používajú rôzne štatistické metódy pre rôzne typy premenných.\n",
    "- Pri strojovom učení je potrebné transformovať premenné do vhodného formátu.\n",
    "\n",
    "Transformácia premenných:\n",
    "- Kategorické premenné sa môžu transformovať na numerické (napr. One-Hot Encoding).\n",
    "- Numerické premenné sa môžu transformovať na kategorické (napr. diskretizácia).\n",
    "- Textové premenné sa môžu transformovať na numerické (napr. TF-IDF).\n",
    "- Časové premenné sa môžu transformovať na numerické (napr. Unix timestamp).\n",
    "- Binárne premenné sa môžu transformovať na numerické (0/1) alebo kategorické (True/False).\n",
    "\n",
    "Vlastnosti numerických premenných:\n",
    "- **Rozsah hodnôt** - či je hodnota obmedzená (napr. vek) alebo neobmedzená (napr. cena) - [Dokumentácia min](https://pandas.pydata.org/docs/reference/api/pandas.DataFrame.min.html), [Dokumentácia max](https://pandas.pydata.org/docs/reference/api/pandas.DataFrame.max.html).\n",
    "- **Variabilita** (Variance) - či sú hodnoty rovnomerne rozložené alebo sa sústreďujú okolo priemeru - [Dokumentácia var](https://pandas.pydata.org/docs/reference/api/pandas.DataFrame.var.html).\n",
    "- **Smerodajná odchýlka** (Standard deviation) - miera variability hodnôt - [Dokumentácia std](https://pandas.pydata.org/docs/reference/api/pandas.DataFrame.std.html).\n",
    "- **Kvartily** (Quartiles) - hodnoty, ktoré rozdeľujú súbor hodnôt na štvrtiny - [Dokumentácia quantile](https://pandas.pydata.org/docs/reference/api/pandas.DataFrame.quantile.html).\n",
    "- **Medián** (Median) - hodnota, ktorá rozdeľuje súbor hodnôt na dve rovnaké polovice - [Dokumentácia median](https://pandas.pydata.org/docs/reference/api/pandas.DataFrame.median.html).\n",
    "- **Priemer** (Mean) - súčet hodnôt delený počtom hodnôt, ovplyvnený extrémnymi hodnotami - [Dokumentácia mean](https://pandas.pydata.org/docs/reference/api/pandas.DataFrame.mean.html).\n",
    "- **Modus** (Mode) - hodnota, ktorá sa v súbore hodnôt vyskytuje najčastejšie - [Dokumentácia mode](https://pandas.pydata.org/docs/reference/api/pandas.DataFrame.mode.html).\n",
    "\n",
    "**Úloha:** Zistite, či stĺpec `DataValue` je kategorický alebo numerický. (Použite metódu `dtypes`.) - [Dokumentácia dtypes](https://pandas.pydata.org/docs/reference/api/pandas.DataFrame.dtypes.html)"
   ],
   "id": "59acadf24133f5f5"
  },
  {
   "metadata": {},
   "cell_type": "code",
   "source": "# TODO",
   "id": "aa0d0981b6002f38",
   "outputs": [],
   "execution_count": null
  },
  {
   "metadata": {},
   "cell_type": "markdown",
   "source": [
    "Triedenie a filtrovanie podľa hodnôt stĺpcov\n",
    "- **Triedenie** sa vykonáva pomocou metódy `sort_values` - [Dokumentácia sort_values](https://pandas.pydata.org/docs/reference/api/pandas.DataFrame.sort_values.html).\n",
    "- **Filtrovanie** sa vykonáva pomocou metódy `query` alebo zápisu `data[data['stĺpec'] == hodnota]`.\n",
    "- **Výber** stĺpcov sa vykonáva pomocou zápisu `data[['stĺpec1', 'stĺpec2']]`.\n",
    "- **Výber** riadkov sa vykonáva pomocou zápisu `data[riadky]`, kde `riadky` môže byť napr. `data['stĺpec'] > hodnota`.\n",
    "\n",
    "**Úloha:** Zoraďte dataset podľa stĺpca `YearStart` vzostupne a zobrazte prvých 5 riadkov."
   ],
   "id": "ddae4eb690d7f1ee"
  },
  {
   "metadata": {},
   "cell_type": "code",
   "source": "# TODO",
   "id": "2bda3f8726183059",
   "outputs": [],
   "execution_count": null
  },
  {
   "metadata": {},
   "cell_type": "markdown",
   "source": [
    "\n",
    "---\n",
    "\n",
    "## **4. Očistenie (clean)**\n",
    "\n",
    "Pri **čistení dát** odstránime chybné, duplicitné alebo chýbajúce hodnoty a urobíme validáciu.\n",
    "\n",
    "Môžeme použiť:\n",
    "- `fillna(value)` – doplní chýbajúce hodnoty zadanou hodnotou - [Dokumentácia fillna](https://pandas.pydata.org/docs/reference/api/pandas.DataFrame.fillna.html)\n",
    "- `drop(columns=['col1', 'col2'])` – odstráni stĺpce - [Dokumentácia drop](https://pandas.pydata.org/docs/reference/api/pandas.DataFrame.drop.html)\n",
    "- `drop(index=[0, 1, 2])` – odstráni riadky podľa indexov - [Dokumentácia drop](https://pandas.pydata.org/docs/reference/api/pandas.DataFrame.drop.html)\n",
    "- `dropna()` – vyhodí riadky, ktoré majú aspoň v jednom stĺpci chýbajúce hodnoty - [Dokumentácia dropna](https://pandas.pydata.org/docs/reference/api/pandas.DataFrame.dropna.html)\n",
    "- `drop_duplicates()` – odstráni duplicitné riadky - [Dokumentácia drop_duplicates](https://pandas.pydata.org/docs/reference/api/pandas.DataFrame.drop_duplicates.html)\n",
    "- Zmena typov: `data['Topic'] = data['Topic'].astype('category')` - mení typ stĺpca na kategorický - [Dokumentácia astype](https://pandas.pydata.org/docs/reference/api/pandas.Series.astype.html)\n",
    "- Overovanie logiky: Môžeme napr. odfiltrovať záznamy, kde `YearStart < 2000` (ak vieme, že staršie roky sú nerelevantné).\n",
    "\n",
    "**Prečo to robiť:**\n",
    "- Chýbajúce údaje môžu skresliť výsledky analýzy.\n",
    "- Duplicitné riadky môžu spôsobiť chyby vovýsledkoch štatistík.\n",
    "- Nesprávne typy môžu brániť vo výpočtoch alebo vizualizácii.\n",
    "\n",
    "**Príklad**"
   ],
   "id": "50c140341836b7dc"
  },
  {
   "metadata": {},
   "cell_type": "code",
   "source": [
    "# drop the NA values in the 'DataValue' column\n",
    "data_clean = data.dropna(subset=['DataValue'])\n",
    "\n",
    "# drop duplicates\n",
    "data_clean = data_clean.drop_duplicates()\n",
    "\n",
    "# change the data type of the 'Topic' column to category\n",
    "data_clean['Topic'] = data_clean['Topic'].astype('category')"
   ],
   "id": "f4188ffb194d4bf0",
   "outputs": [],
   "execution_count": null
  },
  {
   "metadata": {},
   "cell_type": "markdown",
   "source": "**Úloha:** Zistite, koľko chýbajúcich hodnôt obsahuje stĺpec `HighConfidenceLimit`. Použite metódy `isnull()` a `sum()`. - [Dokumentácia isnull](https://pandas.pydata.org/docs/reference/api/pandas.DataFrame.isnull.html), [Dokumentácia sum](https://pandas.pydata.org/docs/reference/api/pandas.DataFrame.sum.html)\n",
   "id": "feb91a7492412d38"
  },
  {
   "metadata": {},
   "cell_type": "code",
   "source": "# TODO",
   "id": "9b2ce0a0dedf7e10",
   "outputs": [],
   "execution_count": null
  },
  {
   "metadata": {},
   "cell_type": "markdown",
   "source": "**Úloha:** Vytvorte nový DataFrame `data_no_na` a odstráňte všetky riadky, kde chýba `HighConfidenceLimit`. Použite parameter `subset` v metóde `dropna()`. - [Dokumentácia dropna](https://pandas.pydata.org/docs/reference/api/pandas.DataFrame.dropna.html)\n",
   "id": "ce92f045c3b12b96"
  },
  {
   "metadata": {},
   "cell_type": "code",
   "source": "# TODO",
   "id": "97b1357fcdcc2a89",
   "outputs": [],
   "execution_count": null
  },
  {
   "metadata": {},
   "cell_type": "markdown",
   "source": "**Úloha:** Overte, že `data_no_na` nemá žiadne chýbajúce hodnoty v danom stĺpci.\n",
   "id": "2d18a10057875f3d"
  },
  {
   "metadata": {},
   "cell_type": "code",
   "source": "# TODO",
   "id": "2bf5b0cd7410f225",
   "outputs": [],
   "execution_count": null
  },
  {
   "metadata": {},
   "cell_type": "markdown",
   "source": [
    "**Redukcia dát:**\n",
    "- **Odstránenie stĺpcov** s nízkou informačnou hodnotou.\n",
    "- **Odstránenie riadkov** s chýbajúcimi hodnotami, prípadne s hodnotami ktoré pre nás nie sú podstatné.\n",
    "\n",
    "**Príklad:** Z datasetu vybrerieme len množinu stĺpcov, ktorá nás zaujíma, a odstránime nepotrebné stĺpce. Z údajov ďalej použijeme iba tie, ktoré sú pre nás relevantné, napr. tie, kde je hodnota `YearStart` väčšia ako 2015.\n"
   ],
   "id": "36606f7dbc3a0b67"
  },
  {
   "metadata": {},
   "cell_type": "code",
   "source": [
    "data_selected = data_clean[['YearStart', 'YearEnd', 'LocationAbbr', 'LocationDesc', 'DataSource', 'Topic', 'TopicID', 'Question', 'DataValueUnit', 'DataValueType', 'DataValue', 'DataValueAlt', 'LowConfidenceLimit', 'HighConfidenceLimit', 'StratificationCategory1', 'Stratification1']]\n",
    "data_selected = data_selected[data_selected['YearStart'] > 2015]\n",
    "\n",
    "data_selected"
   ],
   "id": "7e75a4b1913b2ec6",
   "outputs": [],
   "execution_count": null
  },
  {
   "metadata": {},
   "cell_type": "markdown",
   "source": [
    "---\n",
    "\n",
    "## **5. Úpravy (mutate)**\n",
    "\n",
    "Po vyčistení môže nasledovať **úprava údajov**:\n",
    "- Prekódovanie názvov stĺpcov\n",
    "- Výpočet nových stĺpcov\n",
    "- Pivotovanie dát (zmena tvaru tabuľky)\n",
    "- Zoskupovanie dát a agregácia\n",
    "- Normalizácia, škálovanie, transformácia\n",
    "\n",
    "Ako príklad môžeme vytvoriť nový stĺpec, ktorý bude obsahovať rozdiel medzi hornou a dolnou medzou spoľahlivosti, alebo môžeme vytvoriť pivot tabuľku pre lepšiu vizualizáciu.\n",
    "\n",
    "Môžeme použiť:\n",
    "+ `rename(columns={'oldName':'newName'})` – premenovanie stĺpcov.\n",
    "+ `data['Sum'] = data['Col1'] + data['Col2']` – vytvorenie nového stĺpca ako kombinácie iných stĺpcov.\n",
    "+ `data.pivot_table(values='DataValue', index='LocationAbbr', columns='YearStart', aggfunc='mean')` – vytvorí pivotovú tabuľku údajov - [Dokumentácia pivot_table](https://pandas.pydata.org/docs/reference/api/pandas.DataFrame.pivot_table.html)\n",
    "- Ďalšie metódy: `map()`, `apply()`, `transform()`, `groupby()`, `merge()`, atď.\n",
    "\n",
    "**Prečo to robiť**\n",
    "- Vytváranie nových stĺpcov môže pomôcť pri analýze dát.\n",
    "- Pivotovanie dát môže zjednodušiť vizualizáciu alebo analýzu.\n",
    "- Prekódovanie názvov stĺpcov môže zlepšiť čitateľnosť dát.\n",
    "- Zoskupovanie dát môže zjednodušiť analýzu.\n",
    "- Normalizácia môže pomôcť pri strojovom učení.\n",
    "- Transformácia môže zlepšiť výsledky modelov.\n",
    "\n",
    "\n",
    "**Príklad**"
   ],
   "id": "f2bdf4cc76c9f10a"
  },
  {
   "metadata": {},
   "cell_type": "code",
   "source": [
    "# rename the column\n",
    "data_selected = data_selected.rename(columns={'DataValueAlt': 'DataValueNum'})\n",
    "\n",
    "# create new column\n",
    "data_selected['Diff'] = data_selected['HighConfidenceLimit'] - data_selected['LowConfidenceLimit']\n",
    "\n",
    "# pivot table\n",
    "pivot_df = data_selected.pivot_table(\n",
    "    values='DataValueNum',\n",
    "    index='LocationAbbr',\n",
    "    columns='YearStart',\n",
    "    aggfunc='mean'\n",
    ")\n",
    "\n",
    "pivot_df.head()"
   ],
   "id": "d8c660da285b8d2b",
   "outputs": [],
   "execution_count": null
  },
  {
   "metadata": {},
   "cell_type": "markdown",
   "source": [
    "**Úloha:** Premenujte stĺpec `DataValueType` na `ValueType`.\n",
    "\n"
   ],
   "id": "dbf60df6a8c92722"
  },
  {
   "metadata": {},
   "cell_type": "code",
   "source": "# TODO",
   "id": "cd8d6304d575c64a",
   "outputs": [],
   "execution_count": null
  },
  {
   "metadata": {},
   "cell_type": "markdown",
   "source": "**Úloha:** Vytvorte kontingenčnú (pivotovú) tabuľku pre stĺpce `Topic` (index) a `LocationAbbr` (columns), kde `values` bude priemerná hodnota `DataValueNum`. (Použite parameter observed=False pre potlačenie upozornenia.)\n",
   "id": "474d2bf63cfd2ee6"
  },
  {
   "metadata": {},
   "cell_type": "code",
   "source": "# TODO",
   "id": "bddd7f927e147a50",
   "outputs": [],
   "execution_count": null
  },
  {
   "metadata": {},
   "cell_type": "markdown",
   "source": "**Úloha:** Vytvorte nový stĺpec `Range` ako rozdiel `HighConfidenceLimit - LowConfidenceLimit`.",
   "id": "bad7b8cbcb57cfb4"
  },
  {
   "metadata": {},
   "cell_type": "code",
   "source": "# TODO",
   "id": "dd4ef338db6a19d6",
   "outputs": [],
   "execution_count": null
  },
  {
   "metadata": {},
   "cell_type": "markdown",
   "source": [
    "**Úloha:** Vytvorte stĺpec `HighVal`, ktorý binárne označí, či je daný záznam „vysoký“ alebo „nízky“. Ako podmienku pre odlíšenie záznamov použite stĺpec `DataValueNum`, pričom hraničná hodnota bude väčšia ako 50. Metóda astype() vytvorí z bool hodnôt 0 a 1 - [Dokumentácia astype](https://pandas.pydata.org/docs/reference/api/pandas.Series.astype.html).\n",
    "\n",
    " Hint: Použite `(data_clean[\"DataValueNum\"] > 50).astype(int)`.\n"
   ],
   "id": "74853d520660be2c"
  },
  {
   "metadata": {},
   "cell_type": "code",
   "source": "# TODO",
   "id": "b94b742a746c15c8",
   "outputs": [],
   "execution_count": null
  },
  {
   "metadata": {},
   "cell_type": "markdown",
   "source": [
    "---\n",
    "\n",
    "## **6. Popis (describe)**\n",
    "\n",
    "Popis dát slúži na to, aby sme získali **základný prehľad o rozdelení hodnôt** v datasetoch.\n",
    "\n",
    "Môžeme použiť:\n",
    "- `describe()` – poskytne súhrnnú štatistiku (mean, std, min, max, quartiles).\n",
    "- `groupby()` – umožní zoskupiť dáta podľa určitej kategórie a potom vykonať agregácie (napr. min, max, mean, median, count, atď.) - [Dokumentácia groupby](https://pandas.pydata.org/docs/reference/api/pandas.DataFrame.groupby.html).\n",
    "- `plot(kind='xxx')` – umožní vizualizovať distribúciu hodnôt (napr. histogram, boxplot, atď.).\n",
    "- `corr()` – vypočíta korelácie medzi numerickými stĺpcami - [Dokumentácia corr](https://pandas.pydata.org/docs/reference/api/pandas.DataFrame.corr.html)\n",
    "- `ttest_ind()` – vykoná t-test na overenie hypotéz - [Dokumentácia ttest_ind](https://docs.scipy.org/docs/scipy/reference/generated/scipy.stats.ttest_ind.html)\n",
    "- `zscore()` – vypočíta z-score pre detekciu outlierov - [Dokumentácia zscore](https://docs.scipy.org/docs/scipy/reference/generated/scipy.stats.zscore.html)\n",
    "- `agg()` – umožní aplikovať viacero agregácií naraz - [Dokumentácia agg](https://pandas.pydata.org/docs/reference/api/pandas.DataFrame.agg.html)\n",
    "- Ďalšie metódy: `mean()`, `median()`, `std()`, `count()`, `min()`, `max()`, atď.\n",
    "\n",
    "**Prečo to robiť:**\n",
    "- Zistíme, či v datasetoch nemáme extrémne hodnoty (outliers) alebo nekonzistentné dáta.\n",
    "- Porovnáme priemer vs. medián (ak je medzi nimi veľký rozdiel, môžeme mať 'skewed' distribúciu údajov).\n",
    "- Zistíme, či sú dáta normálne distribuované.\n",
    "\n",
    "**Príklad**"
   ],
   "id": "35bc0454b98bec73"
  },
  {
   "metadata": {},
   "cell_type": "code",
   "source": [
    "# Groupby + aggregation\n",
    "data_summary = data_selected.groupby('LocationAbbr', observed=False).agg(\n",
    "    MinValue=('DataValueNum', 'min'),\n",
    "    MaxValue=('DataValueNum', 'max'),\n",
    "    MeanVal=('DataValueNum', 'mean'),\n",
    "    StdVal=('DataValueNum', 'std'),\n",
    "    CountVal=('DataValueNum', 'count')\n",
    ")\n",
    "data_summary.head()"
   ],
   "id": "f218a2ad86116e47",
   "outputs": [],
   "execution_count": null
  },
  {
   "metadata": {},
   "cell_type": "markdown",
   "source": "**Úloha:** Vytvorte `groupby` pre stĺpec `Topic` a vypočítajte priemer a medián pre stĺpec `DataValueNum`. Výsledok uložte do premennej `topic_stats`. Ďalej vypíšte aj počet hodnôt (count) pre každý `Topic`.\n",
   "id": "190e78b9d0e7bf9d"
  },
  {
   "metadata": {},
   "cell_type": "code",
   "source": "# TODO",
   "id": "39379301f4d08ade",
   "outputs": [],
   "execution_count": null
  },
  {
   "metadata": {},
   "cell_type": "markdown",
   "source": "**Úloha:** Urobte to isté pre `LocationAbbr`, ale pridajte aj min/max.",
   "id": "9053a6e6c62adf73"
  },
  {
   "metadata": {},
   "cell_type": "code",
   "source": "# TODO",
   "id": "4e42d42670c499ce",
   "outputs": [],
   "execution_count": null
  },
  {
   "metadata": {},
   "cell_type": "markdown",
   "source": [
    "---\n",
    "\n",
    "## **7. Vizualizácia (visualize)**\n",
    "\n",
    "Vizualizácia je **kľúčová** na odhalenie vzťahov alebo extrémnych hodnôt, ktoré by sme inak prehliadli. Pomocou grafov môžeme zobraziť distribúciu hodnôt, korelácie, zhlukovanie alebo vzory v dátach.\n",
    "\n",
    "Môžeme použiť:\n",
    "- Knižnicu **matplotlib**, ktorá umožňuje pomocou metódy `plot` vytvárať rôzne grafy - [Dokumentácia matplotlib](https://matplotlib.org/stable/api/_as_gen/matplotlib.pyplot.html).\n",
    "- Často sa používa aj **pandas** `.plot(kind='xxx')`, kde `xxx` je `line`, `bar`, `hist`, `box` atď.\n",
    "- Prípadne môžeme použiť **seaborn** na pokročilejšiu vizualizáciu (kategórie s farebným rozlíšením, hustotné grafy, atď.).\n",
    "\n",
    "Môžeme použiť: (knižnica **Pandas**)\n",
    "- `plot(kind='xxx')` – zobrazí daný typ grafu (line, bar, hist, box, scatter, pie, atď.) - [Dokumentácia plot](https://pandas.pydata.org/docs/reference/api/pandas.DataFrame.plot.html)\n",
    "- `plot.bar()` – stĺpcový graf - [Dokumentácia bar](https://pandas.pydata.org/docs/reference/api/pandas.DataFrame.plot.bar.html)\n",
    "- `plot.hist()` – histogram - [Dokumentácia hist](https://pandas.pydata.org/docs/reference/api/pandas.DataFrame.plot.hist.html)\n",
    "- `plot.box()` – boxplot - [Dokumentácia box](https://pandas.pydata.org/docs/reference/api/pandas.DataFrame.plot.box.html)\n",
    "- `plot.scatter()` – scatterplot - [Dokumentácia scatter](https://pandas.pydata.org/docs/reference/api/pandas.DataFrame.plot.scatter.html)\n",
    "- `plot.pie()` – koláčový graf - [Dokumentácia pie](https://pandas.pydata.org/docs/reference/api/pandas.DataFrame.plot.pie.html)\n",
    "- Ďalšie metódy: `plot.line()`, `plot.area()`, `plot.barh()`, `plot.kde()`, `plot.hexbin()`, atď.\n",
    "- **Seaborn**: `sns.barplot()`, `sns.boxplot()`, `sns.heatmap()`, `sns.scatterplot()`, `sns.pairplot()`, atď.\n",
    "- **Matplotlib**: `plt.plot()`, `plt.bar()`, `plt.hist()`, `plt.boxplot()`, `plt.scatter()`, `plt.pie()`, atď.s\n",
    "\n",
    "**Prečo to robiť**\n",
    "- Vizualizácia pomáha odhaliť vzory, korelácie alebo extrémne hodnoty.\n",
    "- Pomáha pri interpretácii dát a komunikácii výsledkov.\n",
    "- Môžeme použiť aj interaktívne vizualizačné nástroje ako **plotly** alebo **bokeh**.\n",
    "- Vizualizácia je dôležitá aj pri tvorbe prezentácií alebo reportov.\n",
    "- Môžeme použiť aj **tableau** alebo **powerBI** na vizualizáciu.\n",
    "\n",
    "**Príklad** - Ktoré témy (Topic) majú najvyššie priemerné hodnoty?\n",
    "\n",
    "Hint: Potrebujeme zistiť priemernú hodnotu `DataValueNum` pre každý `Topic`. Výsledky je potrebné zoradiť zostupne a vizualizovať niekoľko (napr. 10) prvých tém s najvyššou priemernou hodnotou v grafe (napr. stĺpcový graf)."
   ],
   "id": "a176ef75cf843c36"
  },
  {
   "metadata": {},
   "cell_type": "code",
   "source": [
    "import matplotlib.pyplot as plt\n",
    "\n",
    "# calculate the mean 'DataValueNum' for each 'Topic'\n",
    "topic_means = data_selected.groupby('Topic', observed=False)['DataValueNum'].mean().reset_index() # reset_index() to convert the result to a DataFrame\n",
    "\n",
    "# sort the topics by the mean 'DataValueNum' in descending order\n",
    "topic_means_sorted = topic_means.sort_values(by='DataValueNum', ascending=False)\n",
    "\n",
    "# select the top 10 topics\n",
    "top10 = topic_means_sorted.head(10)\n",
    "\n",
    "# plot the bar chart\n",
    "top10.plot(kind='bar', x='Topic', y='DataValueNum')\n",
    "plt.title('Prvých 10 tém podľa najvyššej priemernej hodnoty (DataValueNum)')\n",
    "plt.xlabel('Topic')\n",
    "plt.ylabel('Priemer DataValueNum')\n",
    "plt.show()"
   ],
   "id": "6bc69cba658b0382",
   "outputs": [],
   "execution_count": null
  },
  {
   "metadata": {},
   "cell_type": "markdown",
   "source": [
    "**Interpretácia:** Dokážeme rýchlo identifikovať, ktoré oblasti (kardiovaskulárne ochorenia, cukrovka, chronické ochorenia, atď.) vykazujú v datasete najvyššie číselné hodnoty. Napríklad, keď je `DataValueNum` prevalencia, ukáže sa, pri ktorých ochoreniach je na úrovni datasetu priemerná prevalencia najvyššia. (Pre dôkladnejšiu analýzu by sme mali zvážiť aj iné faktory, ako napr. počet záznamov, rozsah hodnôt, atď.)\n",
    "\n",
    "---\n",
    "\n",
    "**Úloha:** Porovnajte priemery `DataValueNum` naprieč jednotlivými štátmi. Analýzu urobte pre konkrétny Topic (napr. Diabetes).\n",
    "\n",
    "Hint: Vyfiltrujte hodnoty pre vybraný Topic. Zistite priemernú hodnotu DataValueNum pre každý štát (LocationAbbr).\n",
    "Zoradené výsledky vypíšte a vytvorte stĺpcový graf pre Top 5 aj Bottom 5 lokalít."
   ],
   "id": "29c09f883a05771a"
  },
  {
   "metadata": {},
   "cell_type": "code",
   "source": [
    "selected_topic = 'Diabetes'\n",
    "\n",
    "# filter the data for the selected topic\n",
    "# TODO\n",
    "\n",
    "# calculate the mean 'DataValueNum' for each 'LocationAbbr' (use reset_index() to convert the result to a DataFrame)\n",
    "# TODO\n",
    "\n",
    "# sort the states by the mean 'DataValueNum' in descending order\n",
    "# TODO\n",
    "\n",
    "# select the top 5 and bottom 5 states\n",
    "\n",
    "# plot the bar chart for the top 5 states\n",
    "\n",
    "# plot the bar chart for the bottom 5 states\n",
    "# TODO"
   ],
   "id": "43ad2c3113338305",
   "outputs": [],
   "execution_count": null
  },
  {
   "metadata": {},
   "cell_type": "markdown",
   "source": [
    "**Úloha:** Zobrazte trend v čase (time series) pre vybraný štát a tému (zistite, ako sa mení `DataValueNum` v čase. Pre vizualizáciu použite **line plot**. (Použite parameter `marker='o'` pre vizualizáciu dátových bodov v trende) **Keďže údaje v datasete pochádzajú z rôznych prieskumov a boli zbierané naprieč rôznymi skupinami, je potrebné pri filtrovaní vybrať aj konkrétnu skupinu pre `ValueType` (napr. hodnota `Crude Prevalence`) a `StratificationCategory1` (napr. hodnota `Overall`)**\n",
    "\n",
    "Hint:\n",
    "Zvoľte si konkrétny štát (napr. CA), tému (napr. Asthma), typ hodnoty (napr. Crude Prevalence) a kategóriu (napr. Overall).\n",
    "Vyfiltrujte dáta podľa výberu z predošlého kroku, aby zostali len záznamy, ktoré spĺňajú vybrané kritériá.\n",
    "Vytvorte čiarový graf (line plot), kde na osi X je `YearStart` a na osi Y je `DataValueNum`.\n",
    "Interpretujte výsledný trend."
   ],
   "id": "6c526d52f9f410f9"
  },
  {
   "metadata": {},
   "cell_type": "code",
   "source": [
    "selected_state = 'CA'\n",
    "selected_topic = 'Asthma'\n",
    "\n",
    "# filter the data for the selected state and topic\n",
    "# TODO\n",
    "\n",
    "# plot the line chart\n",
    "# TODO"
   ],
   "id": "4327d2b2fa4c181f",
   "outputs": [],
   "execution_count": null
  },
  {
   "metadata": {},
   "cell_type": "markdown",
   "source": [
    "**Interpretácia:** Ak DataValueNum reprezentuje napr. percento obéznych ľudí, vidíme, ako sa miera obezity menila v priebehu rokov v Kalifornii.\n",
    "\n",
    "---\n",
    "\n",
    "**Úloha:** Vytvorte koláčový graf (`pie` chart) pre počet hodnôt v kategóriách premennej `Topic`. Dáva použitie tohto grafu zmysel ?"
   ],
   "id": "a5fd635de29a6940"
  },
  {
   "metadata": {},
   "cell_type": "code",
   "source": "# TODO",
   "id": "c028a2694a054f4e",
   "outputs": [],
   "execution_count": null
  },
  {
   "metadata": {},
   "cell_type": "markdown",
   "source": "**Príklad:** Porovnanie priemerných hodnôt `DataValueNum` pre vybrané roky (2019, 2020, 2021) pomocou viacerých stĺpcových grafov. Zobrazenie viacerých grafov v jednom obrázku nastavíte parametrom `subplots=True`. Metóda `pivot_table` vytvorí tabuľku, kde riadky budú `LocationAbbr` a stĺpce `YearStart`. Metóda `.isin()` umožní filtrovať dáta podľa zoznamu hodnôt - [Dokumentácia isin](https://pandas.pydata.org/docs/reference/api/pandas.DataFrame.isin.html).\n",
   "id": "ecac31d8d5d1b032"
  },
  {
   "metadata": {},
   "cell_type": "code",
   "source": [
    "import pandas as pd\n",
    "import matplotlib.pyplot as plt\n",
    "\n",
    "# Filter the data for the selected years\n",
    "selected_years = [2019, 2020, 2021]\n",
    "filtered_data = data_selected[data_clean['YearStart'].isin(selected_years)]\n",
    "\n",
    "# Create a pivot table with 'LocationAbbr' as index and 'YearStart' as columns\n",
    "pivot_table = filtered_data.pivot_table(\n",
    "    values='DataValueNum',\n",
    "    index='LocationAbbr',\n",
    "    columns='YearStart',\n",
    "    aggfunc='mean'\n",
    ")\n",
    "\n",
    "# Plot the bar chart\n",
    "pivot_table.plot(kind='bar', figsize=(12, 6), subplots=True)\n",
    "plt.suptitle('Average DataValueNum for Selected Years')\n",
    "plt.show()"
   ],
   "id": "3ad51ac7820b61da",
   "outputs": [],
   "execution_count": null
  },
  {
   "metadata": {},
   "cell_type": "markdown",
   "source": [
    "---\n",
    "\n",
    "## **8. Analýza (analyze)**\n",
    "\n",
    "V tejto fáze môžeme použiť rôzne **štatistické metódy** (napr. korelácia, testy hypotéz) alebo **strojové učenie** (napr. regresiu, klasifikáciu) na predikciu alebo zhlukovanie dát.\n",
    "\n",
    "- **Korelácia**: zistíme, ako spolu súvisia dva (či viac) numerických stĺpcov.\n",
    "- **Regresia**: ak chceme predpovedať `DataValueNum` na základe iných premenných.\n",
    "- **Klasifikácia**: ak by sme mali stĺpec s triedami (napr. `Topic` s viacerými kategóriami) a chceli by sme predikovať.\n",
    "- **Zhlukovanie (clustering)**: ak hľadáme skupiny podobných záznamov.\n",
    "- **Hypotézy**: testy hypotéz (t-test, ANOVA) nám pomôžu overiť, či sú dáta štatisticky signifikantné.\n",
    "- **Outlier detection**: detekcia extrémnych hodnôt, ktoré môžu narušiť analýzu.\n",
    "- **Ďalšie**: PCA, feature selection, cross-validation, atď.\n",
    "- Môžeme použiť aj **neurónové siete** alebo **reinforcement learning**.\n",
    "\n",
    "Môžeme použiť:\n",
    "- .corr() – vypočíta korelácie medzi numerickými stĺpcami - [Dokumentácia corr](https://pandas.pydata.org/docs/reference/api/pandas.DataFrame.corr.html)\n",
    "- ttest_ind() – vykoná t-test na overenie hypotéz - [Dokumentácia ttest_ind](https://docs.scipy.org/doc/scipy/reference/generated/scipy.stats.ttest_ind.html)\n",
    "- zscore() – vypočíta z-score pre detekciu outlierov - [Dokumentácia zscore](https://docs.scipy.org/docs/scipy/reference/generated/scipy.stats.zscore.html)\n",
    "\n",
    "+ **Knižnice**: Na analýzu dát môžeme použiť **scikit-learn**, **statsmodels**, **seaborn**, **scipy**, **numpy**, **pandas**, **torch** alebo **tensorflow**.\n",
    "\n",
    "**Prečo to robiť**\n",
    "- Pomáha nám to pochopiť dáta a vzťahy medzi nimi.\n",
    "- Môžeme odhaliť zaujímavé vzory alebo trendy.\n",
    "- Môžeme predikovať budúce hodnoty alebo klasifikovať nové záznamy.\n",
    "- Môžeme overiť hypotézy alebo zistiť, či sú dáta štatisticky signifikantné.\n",
    "- Môžeme detegovať outlierov alebo zhlukovať podobné záznamy.\n",
    "- Môžeme vytvoriť prediktívne modely pre rôzne úlohy.\n",
    "\n",
    "\n",
    "Korelácia popisuje vzájomné vzťahy medzi premennými. Premenné sa môžu navzájom ovplyvňovať, čo môže byť lineárne alebo nelineárne. Vizualizácia korelácie je užitočná pre jednoduché pochopenie, či je možné pomocou vybraných premenných jednoznačne oddeliť hodnoty závislej premennej.\n",
    "    - Hodnota korelácie je v intervale <-1, 1>\n",
    "    - pozitívna (1) - so zvyšovaním jednej premennej sa zvyšuje aj druhá\n",
    "    - negatívna (-1) - so zvyšovaním jednej premennej sa druhá premenná znižuje\n",
    "    - nulová (0) - premenné sa neovplyvňujú\n",
    "\n",
    "Korelácia neznamená kauzalitu - dva javy sa môžu ukazovať ako závislé, ale neznamená to, že jeden spôsobuje vznik druhého.\n",
    "\n",
    "**Príklad** – Korelácia"
   ],
   "id": "e262436aa4d57eae"
  },
  {
   "metadata": {},
   "cell_type": "code",
   "source": "# pip install seaborn",
   "id": "48341992f0058d",
   "outputs": [],
   "execution_count": null
  },
  {
   "metadata": {},
   "cell_type": "code",
   "source": [
    "import seaborn as sns\n",
    "\n",
    "plt.figure(figsize=(13, 13))\n",
    "# Korelačná matica (numeric_only=True v novších verziách Pandas)\n",
    "corr_matrix = data_selected.corr(numeric_only=True)\n",
    "\n",
    "# Teplotná mapa korelácií\n",
    "sns.heatmap(corr_matrix, annot=True, fmt='.2f', cmap='coolwarm')\n",
    "plt.title('Correlation Matrix')\n",
    "plt.show()"
   ],
   "id": "55a7acc44ebaaeec",
   "outputs": [],
   "execution_count": null
  },
  {
   "metadata": {},
   "cell_type": "markdown",
   "source": [
    "**Úloha:** Vytvorte korelačnú maticu pre vybrané témy z vyfiltrovaných údajov. Pri vytváraní vyfiltrovaných údajov vytvorte pivot tabuľku pre lokality (`LocationAbbr`) ako index a `Topic` ako stĺpce. Ako hodnoty použite priemernú hodnotu `DataValueNum`.\n",
    " Ďalej zvážte len hodnoty pre rok 2020 a typ hodnoty `Crude Prevalence`.\n",
    " a zobrazte ju pomocou heatmapy. Aké závislosti medzi premennými vidíte?\n",
    "\n",
    "Hint:\n",
    "Zvoľte si konkrétne témy (napr. Diabetes, Cancer, Obesity).\n",
    "Vyfiltrujte dáta pre vybrané témy.\n",
    "Vyfiltrujte dáta podľa `YearStart` pre rok 2020 a `ValueType` pre `Crude Prevalence`, aby boli analyzované dáta rovnakého typu.\n",
    "Vytvorte pivot tabuľku pre lokality (`LocationAbbr`) ako index a `Topic` ako stĺpce. Ako hodnoty použite priemernú hodnotu `DataValueNum`.\n",
    "Vypočítajte korelačnú maticu.\n",
    "Zobrazte heatmapu korelačnej matice.\n"
   ],
   "id": "ce00516a91f36931"
  },
  {
   "metadata": {},
   "cell_type": "code",
   "source": [
    "# lists all available values in Topic variable\n",
    "data_clean['Topic'].cat.categories\n",
    "\n",
    "selected_topics = ['Chronic Obstructive Pulmonary Disease',\n",
    "       'Cognitive Health and Caregiving', 'Diabetes', 'Disability',\n",
    "       'Health Status', 'Immunization', 'Maternal Health', 'Mental Health',\n",
    "       'Nutrition, Physical Activity, and Weight Status', 'Oral Health',\n",
    "       'Sleep', 'Social Determinants of Health', 'Tobacco']\n",
    "\n",
    "# filter the data for the selected topics\n",
    "# TODO\n",
    "\n",
    "# filter the data for the year 2020 and ValueType 'Crude Prevalence'\n",
    "# TODO\n",
    "\n",
    "# create a pivot table\n",
    "# TODO\n",
    "\n",
    "# create the correlation matrix\n",
    "# TODO\n",
    "\n",
    "# display the heatmap\n",
    "plt.figure(figsize=(10,10))\n",
    "sns.heatmap(corr_matrix, annot=True, cmap='coolwarm', vmin=-1, vmax=1)\n",
    "plt.title('Korelačná matica vybraných rizikových faktorov (2020)')\n",
    "plt.show()\n"
   ],
   "id": "744f237a00814bbd",
   "outputs": [],
   "execution_count": null
  },
  {
   "metadata": {},
   "cell_type": "markdown",
   "source": "**Úloha:** Uveďte medzi ktorými témami je najvyššia korelácia a aké závislosti medzi nimi vidíte?",
   "id": "3b5010111b907dcd"
  },
  {
   "metadata": {},
   "cell_type": "code",
   "source": "",
   "id": "2fb614704cf8ed48",
   "outputs": [],
   "execution_count": null
  },
  {
   "metadata": {},
   "cell_type": "markdown",
   "source": [
    "**Príklad** – Jednoduchý test hypotézy\n",
    "\n",
    "**T-test**\n",
    "- Štatistický test, ktorý sa používa na porovnávanie priemerných hodnôt medzi dvoma (alebo niekedy jednou) skupinami.\n",
    "- Cieľom je zistiť, či sa pozorované rozdiely v priemeroch dajú pripísať náhode, alebo či sú štatisticky významné.\n",
    "\n",
    "Jednovýberový t-test (one-sample t-test): Porovnáva priemer jednej skupiny voči nejakej známej (teoretickej) hodnote.\n",
    "\n",
    "Dvojvýberový t-test (two-sample t-test): Porovnáva priemery dvoch nezávislých skupín (napr. experimentálna vs. kontrolná skupina).\n",
    "\n",
    "Párový t-test (paired t-test): Porovnáva priemery dvoch meraní na tých istých subjektoch (napr. pred a po intervencii).\n",
    "\n",
    "Pomocou t-testu môžeme napr. overiť, či je priemerné `DataValueNum` pre tému `Diabetes` signifikantne vyššie než pre tému `Asthma` - [Dokumentácia ttest_ind](https://docs.scipy.org/docs/scipy/reference/generated/scipy.stats.ttest_ind.html).\n",
    "\n",
    "hodnota t-stat:\n",
    "Vyjadruje hodnotu, o koľko štandardných chýb sa priemer jednej (alebo rozdiel priemerov dvoch) skupiny(-n) odchýli od teoretickej nulovej hypotézy.\n",
    "\n",
    "p-hodnota:\n",
    "Vyjadruje pravdepodobnosť, že dostaneme taký alebo ešte väčší rozdiel (resp. vyššiu t-štatistiku), ak by nulová hypotéza bola v skutočnosti pravdivá (teda ak by medzi skupinami nebol skutočný rozdiel).\n",
    "Ak je p-hodnota veľmi malá (napríklad menšia ako 0,05), zvyčajne hovoríme, že rozdiel je štatisticky významný – je málo pravdepodobné, že vznikol čisto náhodou.\n",
    "Ak je p-hodnota veľká (napr. > 0,05), pozorovaný rozdiel môže byť dôsledkom náhodnej variability a nemôžeme zamietnuť nulovú hypotézu."
   ],
   "id": "53de744d81abace0"
  },
  {
   "metadata": {},
   "cell_type": "code",
   "source": "# pip install scipy",
   "id": "77f95f6e7e91544c",
   "outputs": [],
   "execution_count": null
  },
  {
   "metadata": {},
   "cell_type": "code",
   "source": [
    "from scipy.stats import ttest_ind\n",
    "\n",
    "diabetes_vals = data_selected.loc[(data_selected['Topic']=='Tobacco') & (data_selected['ValueType']=='Crude Prevalence'), 'DataValueNum'].dropna()\n",
    "asthma_vals = data_selected.loc[(data_selected['Topic']=='Asthma') & (data_selected['ValueType']=='Crude Prevalence'), 'DataValueNum'].dropna()\n",
    "\n",
    "stat, p_value = ttest_ind(diabetes_vals, asthma_vals, equal_var=False)\n",
    "\n",
    "print(\"Test stat:\", stat)\n",
    "print(\"p-value:\", p_value)\n",
    "\n",
    "# Interpretation\n",
    "if p_value < 0.05:\n",
    "    print(\"The average DataValueNum for Cancer is significantly different from Sleep.\")\n",
    "else:\n",
    "    print(\"There is no significant difference in the average DataValueNum between Cancer and Sleep.\")"
   ],
   "id": "fcf03059c4288353",
   "outputs": [],
   "execution_count": null
  },
  {
   "metadata": {},
   "cell_type": "markdown",
   "source": [
    "**Interpretácia:** Ak je p-hodnota nízka (napr. < 0.05), máme dôkaz, že priemer diabetes je štatisticky iný ako priemer asthma.\n",
    "\n",
    "**Úloha:** Vyskúšajte to pre iné dve témy (napr. Sleep a Cancer) a interpretujte výsledok.\n"
   ],
   "id": "9e462ce675bd6dce"
  },
  {
   "metadata": {},
   "cell_type": "code",
   "source": "# TODO",
   "id": "555642371e5eaec2",
   "outputs": [],
   "execution_count": null
  },
  {
   "metadata": {},
   "cell_type": "markdown",
   "source": [
    "---\n",
    "### **Zhrnutie**\n",
    "\n",
    "Základné kroky analýzy dát v Pythone zahŕňajú:\n",
    "1. **Objavovanie**: základné informácie o datasete.\n",
    "2. **Očistenie**: odstránenie chýbajúcich hodnôt, duplicitných záznamov.\n",
    "3. **Úpravy**: vytvorenie nových stĺpcov, pivotovanie dát.\n",
    "4. **Popis**: základná štatistika, zoskupenie dát.\n",
    "5. **Vizualizácia**: zobrazenie distribúcie, korelácií, vzťahov.\n",
    "6. **Analýza**: štatistické testy, detekcia outlierov, predikcia.\n",
    "\n",
    "Tieto kroky tvoria základ dátovej analytiky v Pythone. Dôležitou časťou je správne pochopenie dát a ich kontextu, aby sme vedeli aplikovať správne metódy analýzy a interpretovať výsledky.\n",
    "\n"
   ],
   "id": "3b537fa94fcce2f2"
  }
 ],
 "metadata": {
  "kernelspec": {
   "display_name": "Python 3",
   "language": "python",
   "name": "python3"
  },
  "language_info": {
   "codemirror_mode": {
    "name": "ipython",
    "version": 2
   },
   "file_extension": ".py",
   "mimetype": "text/x-python",
   "name": "python",
   "nbconvert_exporter": "python",
   "pygments_lexer": "ipython2",
   "version": "2.7.6"
  }
 },
 "nbformat": 4,
 "nbformat_minor": 5
}
